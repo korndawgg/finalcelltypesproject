{
 "cells": [
  {
   "cell_type": "markdown",
   "metadata": {},
   "source": [
    "# VISp and VISpm\n"
   ]
  },
  {
   "cell_type": "markdown",
   "metadata": {},
   "source": [
    "## Team Member Names & Contributions\n",
    "\n",
    "\n",
    "- **Yudi Hu**: (PID A13488186)\n",
    "- **Lauren Hui**: (PID A14697567)\n",
    "- **Sunnie Hong**: abstract, background, question, editing code, Cell Types wrangling and analysis, Cell Types graphs, discussion, conclusion (PID A13527409)"
   ]
  },
  {
   "cell_type": "markdown",
   "metadata": {},
   "source": [
    "## Abstract"
   ]
  },
  {
   "cell_type": "markdown",
   "metadata": {},
   "source": [
    "*Fill in your 3-4 sentence abstract here*"
   ]
  },
  {
   "cell_type": "markdown",
   "metadata": {},
   "source": [
    "## Research Question"
   ]
  },
  {
   "cell_type": "markdown",
   "metadata": {},
   "source": [
    "*Fill in your research question here*"
   ]
  },
  {
   "cell_type": "markdown",
   "metadata": {},
   "source": [
    "# Background and Prior Work"
   ]
  },
  {
   "cell_type": "markdown",
   "metadata": {},
   "source": [
    "*Fill in your background and prior work here (~500 words). You are welcome to use additional subheadings. You should also include a paragraph describing each dataset and how you'll be using them.* \n",
    "\n",
    "### References (include links):\n",
    "(1)\n",
    "\n",
    "(2)"
   ]
  },
  {
   "cell_type": "markdown",
   "metadata": {},
   "source": [
    "## Hypothesis\n"
   ]
  },
  {
   "cell_type": "markdown",
   "metadata": {},
   "source": [
    "*Fill in your hypotheses here*"
   ]
  },
  {
   "cell_type": "markdown",
   "metadata": {},
   "source": [
    "## Setup"
   ]
  },
  {
   "cell_type": "markdown",
   "metadata": {},
   "source": [
    "Importing packages needed for the code."
   ]
  },
  {
   "cell_type": "code",
   "execution_count": 1,
   "metadata": {},
   "outputs": [],
   "source": [
    "import pandas as pd\n",
    "import numpy as np\n",
    "import matplotlib as mp\n",
    "import matplotlib.pyplot as plt\n",
    "from sklearn.decomposition import PCA\n",
    "import seaborn as sns\n",
    "from scipy import stats\n",
    "import xarray as xr"
   ]
  },
  {
   "cell_type": "markdown",
   "metadata": {},
   "source": [
    "Importing Cell Types Dataset from Allen Brain Institute"
   ]
  },
  {
   "cell_type": "code",
   "execution_count": 2,
   "metadata": {},
   "outputs": [
    {
     "data": {
      "text/html": [
       "<div>\n",
       "<style scoped>\n",
       "    .dataframe tbody tr th:only-of-type {\n",
       "        vertical-align: middle;\n",
       "    }\n",
       "\n",
       "    .dataframe tbody tr th {\n",
       "        vertical-align: top;\n",
       "    }\n",
       "\n",
       "    .dataframe thead th {\n",
       "        text-align: right;\n",
       "    }\n",
       "</style>\n",
       "<table border=\"1\" class=\"dataframe\">\n",
       "  <thead>\n",
       "    <tr style=\"text-align: right;\">\n",
       "      <th></th>\n",
       "      <th>line_name</th>\n",
       "      <th>specimen__id</th>\n",
       "      <th>specimen__name</th>\n",
       "      <th>specimen__hemisphere</th>\n",
       "      <th>structure__id</th>\n",
       "      <th>structure__name</th>\n",
       "      <th>structure__acronym</th>\n",
       "      <th>structure_parent__id</th>\n",
       "      <th>structure_parent__acronym</th>\n",
       "      <th>structure__layer</th>\n",
       "      <th>...</th>\n",
       "      <th>ephys_thumb_path</th>\n",
       "      <th>ephys_inst_thresh_thumb_path</th>\n",
       "      <th>donor__age</th>\n",
       "      <th>donor__sex</th>\n",
       "      <th>donor__disease_state</th>\n",
       "      <th>donor__race</th>\n",
       "      <th>donor__years_of_seizure_history</th>\n",
       "      <th>donor__species</th>\n",
       "      <th>donor__id</th>\n",
       "      <th>donor__name</th>\n",
       "    </tr>\n",
       "  </thead>\n",
       "  <tbody>\n",
       "    <tr>\n",
       "      <th>0</th>\n",
       "      <td>NaN</td>\n",
       "      <td>525011903</td>\n",
       "      <td>H16.03.003.01.14.02</td>\n",
       "      <td>right</td>\n",
       "      <td>12113</td>\n",
       "      <td>\"frontal lobe\"</td>\n",
       "      <td>FroL</td>\n",
       "      <td>12113</td>\n",
       "      <td>FroL</td>\n",
       "      <td>3</td>\n",
       "      <td>...</td>\n",
       "      <td>/api/v2/well_known_file_download/529903140</td>\n",
       "      <td>/api/v2/well_known_file_download/529903142</td>\n",
       "      <td>25 yrs</td>\n",
       "      <td>Male</td>\n",
       "      <td>epilepsy</td>\n",
       "      <td>White or Caucasian</td>\n",
       "      <td>9.0</td>\n",
       "      <td>Homo Sapiens</td>\n",
       "      <td>524848408</td>\n",
       "      <td>H16.03.003</td>\n",
       "    </tr>\n",
       "    <tr>\n",
       "      <th>1</th>\n",
       "      <td>Oxtr-T2A-Cre</td>\n",
       "      <td>565871768</td>\n",
       "      <td>Oxtr-2A-Cre;Ai14-293837.03.01.02</td>\n",
       "      <td>left</td>\n",
       "      <td>778</td>\n",
       "      <td>\"Primary visual area, layer 5\"</td>\n",
       "      <td>VISp5</td>\n",
       "      <td>385</td>\n",
       "      <td>VISp</td>\n",
       "      <td>5</td>\n",
       "      <td>...</td>\n",
       "      <td>/api/v2/well_known_file_download/566738214</td>\n",
       "      <td>/api/v2/well_known_file_download/566738219</td>\n",
       "      <td>NaN</td>\n",
       "      <td>NaN</td>\n",
       "      <td>NaN</td>\n",
       "      <td>NaN</td>\n",
       "      <td>NaN</td>\n",
       "      <td>Mus musculus</td>\n",
       "      <td>563340157</td>\n",
       "      <td>Oxtr-T2A-Cre;Ai14-293837</td>\n",
       "    </tr>\n",
       "    <tr>\n",
       "      <th>2</th>\n",
       "      <td>Pvalb-IRES-Cre</td>\n",
       "      <td>469801138</td>\n",
       "      <td>Pvalb-IRES-Cre;Ai14-170927.05.02.01</td>\n",
       "      <td>right</td>\n",
       "      <td>721</td>\n",
       "      <td>\"Primary visual area, layer 4\"</td>\n",
       "      <td>VISp4</td>\n",
       "      <td>385</td>\n",
       "      <td>VISp</td>\n",
       "      <td>4</td>\n",
       "      <td>...</td>\n",
       "      <td>/api/v2/well_known_file_download/487618917</td>\n",
       "      <td>/api/v2/well_known_file_download/491380580</td>\n",
       "      <td>NaN</td>\n",
       "      <td>NaN</td>\n",
       "      <td>NaN</td>\n",
       "      <td>NaN</td>\n",
       "      <td>NaN</td>\n",
       "      <td>Mus musculus</td>\n",
       "      <td>319194354</td>\n",
       "      <td>Pvalb-IRES-Cre;Ai14(IVSCC)-170927</td>\n",
       "    </tr>\n",
       "    <tr>\n",
       "      <th>3</th>\n",
       "      <td>NaN</td>\n",
       "      <td>528642047</td>\n",
       "      <td>H16.06.009.01.02.06.05</td>\n",
       "      <td>left</td>\n",
       "      <td>12141</td>\n",
       "      <td>\"middle temporal gyrus\"</td>\n",
       "      <td>MTG</td>\n",
       "      <td>12141</td>\n",
       "      <td>MTG</td>\n",
       "      <td>5</td>\n",
       "      <td>...</td>\n",
       "      <td>/api/v2/well_known_file_download/660970973</td>\n",
       "      <td>/api/v2/well_known_file_download/660970975</td>\n",
       "      <td>48 yrs</td>\n",
       "      <td>Female</td>\n",
       "      <td>epilepsy</td>\n",
       "      <td>unknown</td>\n",
       "      <td>33.0</td>\n",
       "      <td>Homo Sapiens</td>\n",
       "      <td>528574320</td>\n",
       "      <td>H16.06.009</td>\n",
       "    </tr>\n",
       "    <tr>\n",
       "      <th>4</th>\n",
       "      <td>Slc32a1-T2A-FlpO|Vipr2-IRES2-Cre</td>\n",
       "      <td>605889373</td>\n",
       "      <td>Vipr2-IRES2-Cre;Slc32a1-T2A-FlpO;Ai65-337419.0...</td>\n",
       "      <td>right</td>\n",
       "      <td>821</td>\n",
       "      <td>\"Primary visual area, layer 2/3\"</td>\n",
       "      <td>VISp2/3</td>\n",
       "      <td>385</td>\n",
       "      <td>VISp</td>\n",
       "      <td>2/3</td>\n",
       "      <td>...</td>\n",
       "      <td>/api/v2/well_known_file_download/657612184</td>\n",
       "      <td>/api/v2/well_known_file_download/657612186</td>\n",
       "      <td>NaN</td>\n",
       "      <td>NaN</td>\n",
       "      <td>NaN</td>\n",
       "      <td>NaN</td>\n",
       "      <td>NaN</td>\n",
       "      <td>Mus musculus</td>\n",
       "      <td>605622695</td>\n",
       "      <td>Vipr2-IRES2-Cre;Slc32a1-T2A-FlpO;Ai65-337419</td>\n",
       "    </tr>\n",
       "    <tr>\n",
       "      <th>...</th>\n",
       "      <td>...</td>\n",
       "      <td>...</td>\n",
       "      <td>...</td>\n",
       "      <td>...</td>\n",
       "      <td>...</td>\n",
       "      <td>...</td>\n",
       "      <td>...</td>\n",
       "      <td>...</td>\n",
       "      <td>...</td>\n",
       "      <td>...</td>\n",
       "      <td>...</td>\n",
       "      <td>...</td>\n",
       "      <td>...</td>\n",
       "      <td>...</td>\n",
       "      <td>...</td>\n",
       "      <td>...</td>\n",
       "      <td>...</td>\n",
       "      <td>...</td>\n",
       "      <td>...</td>\n",
       "      <td>...</td>\n",
       "      <td>...</td>\n",
       "    </tr>\n",
       "    <tr>\n",
       "      <th>2326</th>\n",
       "      <td>Ctgf-T2A-dgCre</td>\n",
       "      <td>512322162</td>\n",
       "      <td>Ctgf-2A-dgCre;Ai14(IVSCC)-240529.03.02.01</td>\n",
       "      <td>right</td>\n",
       "      <td>305</td>\n",
       "      <td>\"Primary visual area, layer 6b\"</td>\n",
       "      <td>VISp6b</td>\n",
       "      <td>385</td>\n",
       "      <td>VISp</td>\n",
       "      <td>6b</td>\n",
       "      <td>...</td>\n",
       "      <td>/api/v2/well_known_file_download/513878612</td>\n",
       "      <td>/api/v2/well_known_file_download/513878614</td>\n",
       "      <td>NaN</td>\n",
       "      <td>NaN</td>\n",
       "      <td>NaN</td>\n",
       "      <td>NaN</td>\n",
       "      <td>NaN</td>\n",
       "      <td>Mus musculus</td>\n",
       "      <td>511856495</td>\n",
       "      <td>Ctgf-2A-dgCre;Ai14(IVSCC)-240529</td>\n",
       "    </tr>\n",
       "    <tr>\n",
       "      <th>2327</th>\n",
       "      <td>Rorb-IRES2-Cre</td>\n",
       "      <td>488473535</td>\n",
       "      <td>Rorb-IRES2-Cre-D;Ai14-212867.03.01.01</td>\n",
       "      <td>left</td>\n",
       "      <td>821</td>\n",
       "      <td>\"Primary visual area, layer 2/3\"</td>\n",
       "      <td>VISp2/3</td>\n",
       "      <td>385</td>\n",
       "      <td>VISp</td>\n",
       "      <td>2/3</td>\n",
       "      <td>...</td>\n",
       "      <td>/api/v2/well_known_file_download/488474970</td>\n",
       "      <td>/api/v2/well_known_file_download/491376689</td>\n",
       "      <td>NaN</td>\n",
       "      <td>NaN</td>\n",
       "      <td>NaN</td>\n",
       "      <td>NaN</td>\n",
       "      <td>NaN</td>\n",
       "      <td>Mus musculus</td>\n",
       "      <td>487607572</td>\n",
       "      <td>Rorb-IRES2-Cre-D;Ai14-212867</td>\n",
       "    </tr>\n",
       "    <tr>\n",
       "      <th>2328</th>\n",
       "      <td>Rorb-IRES2-Cre</td>\n",
       "      <td>467003163</td>\n",
       "      <td>Rorb-IRES2-Cre-D;Ai14-172652.02.02.01</td>\n",
       "      <td>right</td>\n",
       "      <td>721</td>\n",
       "      <td>\"Primary visual area, layer 4\"</td>\n",
       "      <td>VISp4</td>\n",
       "      <td>385</td>\n",
       "      <td>VISp</td>\n",
       "      <td>4</td>\n",
       "      <td>...</td>\n",
       "      <td>/api/v2/well_known_file_download/487623212</td>\n",
       "      <td>/api/v2/well_known_file_download/491378303</td>\n",
       "      <td>NaN</td>\n",
       "      <td>NaN</td>\n",
       "      <td>NaN</td>\n",
       "      <td>NaN</td>\n",
       "      <td>NaN</td>\n",
       "      <td>Mus musculus</td>\n",
       "      <td>322489498</td>\n",
       "      <td>Rorb-IRES2-Cre-D;Ai14(IVSCC)-172652</td>\n",
       "    </tr>\n",
       "    <tr>\n",
       "      <th>2329</th>\n",
       "      <td>Pvalb-IRES-Cre</td>\n",
       "      <td>572609946</td>\n",
       "      <td>Pvalb-IRES-Cre;Ai14-301945.04.02.01</td>\n",
       "      <td>right</td>\n",
       "      <td>721</td>\n",
       "      <td>\"Primary visual area, layer 4\"</td>\n",
       "      <td>VISp4</td>\n",
       "      <td>385</td>\n",
       "      <td>VISp</td>\n",
       "      <td>4</td>\n",
       "      <td>...</td>\n",
       "      <td>/api/v2/well_known_file_download/575795570</td>\n",
       "      <td>/api/v2/well_known_file_download/575795572</td>\n",
       "      <td>NaN</td>\n",
       "      <td>NaN</td>\n",
       "      <td>NaN</td>\n",
       "      <td>NaN</td>\n",
       "      <td>NaN</td>\n",
       "      <td>Mus musculus</td>\n",
       "      <td>570930952</td>\n",
       "      <td>Pvalb-IRES-Cre;Ai14-301945</td>\n",
       "    </tr>\n",
       "    <tr>\n",
       "      <th>2330</th>\n",
       "      <td>Sst-IRES-Cre</td>\n",
       "      <td>464212183</td>\n",
       "      <td>Sst-IRES-Cre;Ai14-165865.05.02.01</td>\n",
       "      <td>left</td>\n",
       "      <td>778</td>\n",
       "      <td>\"Primary visual area, layer 5\"</td>\n",
       "      <td>VISp5</td>\n",
       "      <td>385</td>\n",
       "      <td>VISp</td>\n",
       "      <td>5</td>\n",
       "      <td>...</td>\n",
       "      <td>/api/v2/well_known_file_download/487630084</td>\n",
       "      <td>/api/v2/well_known_file_download/491377895</td>\n",
       "      <td>NaN</td>\n",
       "      <td>NaN</td>\n",
       "      <td>NaN</td>\n",
       "      <td>NaN</td>\n",
       "      <td>NaN</td>\n",
       "      <td>Mus musculus</td>\n",
       "      <td>312883165</td>\n",
       "      <td>Sst-IRES-Cre;Ai14(IVSCC)-165865</td>\n",
       "    </tr>\n",
       "  </tbody>\n",
       "</table>\n",
       "<p>2331 rows × 54 columns</p>\n",
       "</div>"
      ],
      "text/plain": [
       "                             line_name  specimen__id  \\\n",
       "0                                  NaN     525011903   \n",
       "1                         Oxtr-T2A-Cre     565871768   \n",
       "2                       Pvalb-IRES-Cre     469801138   \n",
       "3                                  NaN     528642047   \n",
       "4     Slc32a1-T2A-FlpO|Vipr2-IRES2-Cre     605889373   \n",
       "...                                ...           ...   \n",
       "2326                    Ctgf-T2A-dgCre     512322162   \n",
       "2327                    Rorb-IRES2-Cre     488473535   \n",
       "2328                    Rorb-IRES2-Cre     467003163   \n",
       "2329                    Pvalb-IRES-Cre     572609946   \n",
       "2330                      Sst-IRES-Cre     464212183   \n",
       "\n",
       "                                         specimen__name specimen__hemisphere  \\\n",
       "0                                   H16.03.003.01.14.02                right   \n",
       "1                      Oxtr-2A-Cre;Ai14-293837.03.01.02                 left   \n",
       "2                   Pvalb-IRES-Cre;Ai14-170927.05.02.01                right   \n",
       "3                                H16.06.009.01.02.06.05                 left   \n",
       "4     Vipr2-IRES2-Cre;Slc32a1-T2A-FlpO;Ai65-337419.0...                right   \n",
       "...                                                 ...                  ...   \n",
       "2326          Ctgf-2A-dgCre;Ai14(IVSCC)-240529.03.02.01                right   \n",
       "2327              Rorb-IRES2-Cre-D;Ai14-212867.03.01.01                 left   \n",
       "2328              Rorb-IRES2-Cre-D;Ai14-172652.02.02.01                right   \n",
       "2329                Pvalb-IRES-Cre;Ai14-301945.04.02.01                right   \n",
       "2330                  Sst-IRES-Cre;Ai14-165865.05.02.01                 left   \n",
       "\n",
       "      structure__id                   structure__name structure__acronym  \\\n",
       "0             12113                    \"frontal lobe\"               FroL   \n",
       "1               778    \"Primary visual area, layer 5\"              VISp5   \n",
       "2               721    \"Primary visual area, layer 4\"              VISp4   \n",
       "3             12141           \"middle temporal gyrus\"                MTG   \n",
       "4               821  \"Primary visual area, layer 2/3\"            VISp2/3   \n",
       "...             ...                               ...                ...   \n",
       "2326            305   \"Primary visual area, layer 6b\"             VISp6b   \n",
       "2327            821  \"Primary visual area, layer 2/3\"            VISp2/3   \n",
       "2328            721    \"Primary visual area, layer 4\"              VISp4   \n",
       "2329            721    \"Primary visual area, layer 4\"              VISp4   \n",
       "2330            778    \"Primary visual area, layer 5\"              VISp5   \n",
       "\n",
       "      structure_parent__id structure_parent__acronym structure__layer  ...  \\\n",
       "0                    12113                      FroL                3  ...   \n",
       "1                      385                      VISp                5  ...   \n",
       "2                      385                      VISp                4  ...   \n",
       "3                    12141                       MTG                5  ...   \n",
       "4                      385                      VISp              2/3  ...   \n",
       "...                    ...                       ...              ...  ...   \n",
       "2326                   385                      VISp               6b  ...   \n",
       "2327                   385                      VISp              2/3  ...   \n",
       "2328                   385                      VISp                4  ...   \n",
       "2329                   385                      VISp                4  ...   \n",
       "2330                   385                      VISp                5  ...   \n",
       "\n",
       "                                ephys_thumb_path  \\\n",
       "0     /api/v2/well_known_file_download/529903140   \n",
       "1     /api/v2/well_known_file_download/566738214   \n",
       "2     /api/v2/well_known_file_download/487618917   \n",
       "3     /api/v2/well_known_file_download/660970973   \n",
       "4     /api/v2/well_known_file_download/657612184   \n",
       "...                                          ...   \n",
       "2326  /api/v2/well_known_file_download/513878612   \n",
       "2327  /api/v2/well_known_file_download/488474970   \n",
       "2328  /api/v2/well_known_file_download/487623212   \n",
       "2329  /api/v2/well_known_file_download/575795570   \n",
       "2330  /api/v2/well_known_file_download/487630084   \n",
       "\n",
       "                    ephys_inst_thresh_thumb_path  donor__age  donor__sex  \\\n",
       "0     /api/v2/well_known_file_download/529903142      25 yrs        Male   \n",
       "1     /api/v2/well_known_file_download/566738219         NaN         NaN   \n",
       "2     /api/v2/well_known_file_download/491380580         NaN         NaN   \n",
       "3     /api/v2/well_known_file_download/660970975      48 yrs      Female   \n",
       "4     /api/v2/well_known_file_download/657612186         NaN         NaN   \n",
       "...                                          ...         ...         ...   \n",
       "2326  /api/v2/well_known_file_download/513878614         NaN         NaN   \n",
       "2327  /api/v2/well_known_file_download/491376689         NaN         NaN   \n",
       "2328  /api/v2/well_known_file_download/491378303         NaN         NaN   \n",
       "2329  /api/v2/well_known_file_download/575795572         NaN         NaN   \n",
       "2330  /api/v2/well_known_file_download/491377895         NaN         NaN   \n",
       "\n",
       "      donor__disease_state         donor__race  \\\n",
       "0                 epilepsy  White or Caucasian   \n",
       "1                      NaN                 NaN   \n",
       "2                      NaN                 NaN   \n",
       "3                 epilepsy             unknown   \n",
       "4                      NaN                 NaN   \n",
       "...                    ...                 ...   \n",
       "2326                   NaN                 NaN   \n",
       "2327                   NaN                 NaN   \n",
       "2328                   NaN                 NaN   \n",
       "2329                   NaN                 NaN   \n",
       "2330                   NaN                 NaN   \n",
       "\n",
       "      donor__years_of_seizure_history  donor__species  donor__id  \\\n",
       "0                                 9.0    Homo Sapiens  524848408   \n",
       "1                                 NaN    Mus musculus  563340157   \n",
       "2                                 NaN    Mus musculus  319194354   \n",
       "3                                33.0    Homo Sapiens  528574320   \n",
       "4                                 NaN    Mus musculus  605622695   \n",
       "...                               ...             ...        ...   \n",
       "2326                              NaN    Mus musculus  511856495   \n",
       "2327                              NaN    Mus musculus  487607572   \n",
       "2328                              NaN    Mus musculus  322489498   \n",
       "2329                              NaN    Mus musculus  570930952   \n",
       "2330                              NaN    Mus musculus  312883165   \n",
       "\n",
       "                                       donor__name  \n",
       "0                                       H16.03.003  \n",
       "1                         Oxtr-T2A-Cre;Ai14-293837  \n",
       "2                Pvalb-IRES-Cre;Ai14(IVSCC)-170927  \n",
       "3                                       H16.06.009  \n",
       "4     Vipr2-IRES2-Cre;Slc32a1-T2A-FlpO;Ai65-337419  \n",
       "...                                            ...  \n",
       "2326              Ctgf-2A-dgCre;Ai14(IVSCC)-240529  \n",
       "2327                  Rorb-IRES2-Cre-D;Ai14-212867  \n",
       "2328           Rorb-IRES2-Cre-D;Ai14(IVSCC)-172652  \n",
       "2329                    Pvalb-IRES-Cre;Ai14-301945  \n",
       "2330               Sst-IRES-Cre;Ai14(IVSCC)-165865  \n",
       "\n",
       "[2331 rows x 54 columns]"
      ]
     },
     "execution_count": 2,
     "metadata": {},
     "output_type": "execute_result"
    }
   ],
   "source": [
    "cell_type_df = pd.read_csv('cell_types_specimen_details.csv')\n",
    "cell_type_df"
   ]
  },
  {
   "cell_type": "markdown",
   "metadata": {},
   "source": [
    "Importing the Neuropixels Cache. "
   ]
  },
  {
   "cell_type": "code",
   "execution_count": 3,
   "metadata": {},
   "outputs": [],
   "source": [
    "from allensdk.brain_observatory.ecephys.ecephys_project_cache import EcephysProjectCache\n",
    "manifest_path = '/datasets/allen-brain-observatory/visual-coding-neuropixels/ecephys-cache/manifest.json' "
   ]
  },
  {
   "cell_type": "markdown",
   "metadata": {},
   "source": [
    "## Data Wrangling"
   ]
  },
  {
   "cell_type": "markdown",
   "metadata": {},
   "source": [
    "From the Cell Types database: creating a separate dataframe for VISp and VISpm data"
   ]
  },
  {
   "cell_type": "code",
   "execution_count": 4,
   "metadata": {},
   "outputs": [
    {
     "name": "stdout",
     "output_type": "stream",
     "text": [
      "                          line_name  specimen__id  \\\n",
      "0                      Oxtr-T2A-Cre     565871768   \n",
      "1                    Pvalb-IRES-Cre     469801138   \n",
      "2  Slc32a1-T2A-FlpO|Vipr2-IRES2-Cre     605889373   \n",
      "3                      Cux2-CreERT2     485909730   \n",
      "4                    Scnn1a-Tg3-Cre     323865917   \n",
      "\n",
      "                                      specimen__name specimen__hemisphere  \\\n",
      "0                   Oxtr-2A-Cre;Ai14-293837.03.01.02                 left   \n",
      "1                Pvalb-IRES-Cre;Ai14-170927.05.02.01                right   \n",
      "2  Vipr2-IRES2-Cre;Slc32a1-T2A-FlpO;Ai65-337419.0...                right   \n",
      "3                  Cux2-CreERT2;Ai14-205530.03.02.01                right   \n",
      "4                Scnn1a-Tg3-Cre;Ai14-172530.06.01.01                 left   \n",
      "\n",
      "   structure__id                   structure__name structure__acronym  \\\n",
      "0            778    \"Primary visual area, layer 5\"              VISp5   \n",
      "1            721    \"Primary visual area, layer 4\"              VISp4   \n",
      "2            821  \"Primary visual area, layer 2/3\"            VISp2/3   \n",
      "3            778    \"Primary visual area, layer 5\"              VISp5   \n",
      "4            778    \"Primary visual area, layer 5\"              VISp5   \n",
      "\n",
      "   structure_parent__id structure_parent__acronym structure__layer  ...  \\\n",
      "0                   385                      VISp                5  ...   \n",
      "1                   385                      VISp                4  ...   \n",
      "2                   385                      VISp              2/3  ...   \n",
      "3                   385                      VISp                5  ...   \n",
      "4                   385                      VISp                5  ...   \n",
      "\n",
      "                             ephys_thumb_path  \\\n",
      "0  /api/v2/well_known_file_download/566738214   \n",
      "1  /api/v2/well_known_file_download/487618917   \n",
      "2  /api/v2/well_known_file_download/657612184   \n",
      "3  /api/v2/well_known_file_download/485911650   \n",
      "4  /api/v2/well_known_file_download/487629671   \n",
      "\n",
      "                 ephys_inst_thresh_thumb_path  donor__age  donor__sex  \\\n",
      "0  /api/v2/well_known_file_download/566738219           0           0   \n",
      "1  /api/v2/well_known_file_download/491380580           0           0   \n",
      "2  /api/v2/well_known_file_download/657612186           0           0   \n",
      "3  /api/v2/well_known_file_download/491381130           0           0   \n",
      "4  /api/v2/well_known_file_download/491384430           0           0   \n",
      "\n",
      "   donor__disease_state donor__race  donor__years_of_seizure_history  \\\n",
      "0                     0           0                              0.0   \n",
      "1                     0           0                              0.0   \n",
      "2                     0           0                              0.0   \n",
      "3                     0           0                              0.0   \n",
      "4                     0           0                              0.0   \n",
      "\n",
      "   donor__species  donor__id                                   donor__name  \n",
      "0    Mus musculus  563340157                      Oxtr-T2A-Cre;Ai14-293837  \n",
      "1    Mus musculus  319194354             Pvalb-IRES-Cre;Ai14(IVSCC)-170927  \n",
      "2    Mus musculus  605622695  Vipr2-IRES2-Cre;Slc32a1-T2A-FlpO;Ai65-337419  \n",
      "3    Mus musculus  485250100                      Cux2-CreERT2;Ai14-205530  \n",
      "4    Mus musculus  322489588               Scnn1a-Tg3-Cre;Ai14(GSL)-172530  \n",
      "\n",
      "[5 rows x 54 columns]\n",
      "                          line_name  specimen__id  \\\n",
      "0  Slc32a1-T2A-FlpO|Vipr2-IRES2-Cre     585805211   \n",
      "1  Slc32a1-T2A-FlpO|Vipr2-IRES2-Cre     586073850   \n",
      "2                  Ndnf-IRES2-dgCre     565120091   \n",
      "3                   Vipr2-IRES2-Cre     590558808   \n",
      "4                    Scnn1a-Tg3-Cre     466827702   \n",
      "\n",
      "                                      specimen__name specimen__hemisphere  \\\n",
      "0  Vipr2-IRES2-Cre;Slc32a1-T2A-FlpO;Ai65-315067.0...                 left   \n",
      "1  Vipr2-IRES2-Cre;Slc32a1-T2A-FlpO;Ai65-315072.0...                 left   \n",
      "2              Ndnf-IRES2-dgCre;Ai14-292670.04.02.01                right   \n",
      "3               Vipr2-IRES2-Cre;Ai14-316908.04.02.01                right   \n",
      "4                Scnn1a-Tg3-Cre;Ai14-180211.05.01.01                 left   \n",
      "\n",
      "   structure__id                         structure__name structure__acronym  \\\n",
      "0             41  \"posteromedial visual area, layer 2/3\"           VISpm2/3   \n",
      "1             41  \"posteromedial visual area, layer 2/3\"           VISpm2/3   \n",
      "2            501    \"posteromedial visual area, layer 4\"             VISpm4   \n",
      "3            469   \"posteromedial visual area, layer 6b\"            VISpm6b   \n",
      "4            565    \"posteromedial visual area, layer 5\"             VISpm5   \n",
      "\n",
      "   structure_parent__id structure_parent__acronym structure__layer  ...  \\\n",
      "0                   533                     VISpm              2/3  ...   \n",
      "1                   533                     VISpm              2/3  ...   \n",
      "2                   533                     VISpm                4  ...   \n",
      "3                   533                     VISpm               6b  ...   \n",
      "4                   533                     VISpm                5  ...   \n",
      "\n",
      "                             ephys_thumb_path  \\\n",
      "0  /api/v2/well_known_file_download/606111374   \n",
      "1  /api/v2/well_known_file_download/606111617   \n",
      "2  /api/v2/well_known_file_download/566724383   \n",
      "3  /api/v2/well_known_file_download/606112029   \n",
      "4  /api/v2/well_known_file_download/487628699   \n",
      "\n",
      "                 ephys_inst_thresh_thumb_path  donor__age  donor__sex  \\\n",
      "0  /api/v2/well_known_file_download/606111379           0           0   \n",
      "1  /api/v2/well_known_file_download/606111619           0           0   \n",
      "2  /api/v2/well_known_file_download/566724388           0           0   \n",
      "3  /api/v2/well_known_file_download/606112031           0           0   \n",
      "4  /api/v2/well_known_file_download/491376465           0           0   \n",
      "\n",
      "   donor__disease_state donor__race  donor__years_of_seizure_history  \\\n",
      "0                     0           0                              0.0   \n",
      "1                     0           0                              0.0   \n",
      "2                     0           0                              0.0   \n",
      "3                     0           0                              0.0   \n",
      "4                     0           0                              0.0   \n",
      "\n",
      "   donor__species  donor__id                                   donor__name  \n",
      "0    Mus musculus  584627997  Vipr2-IRES2-Cre;Slc32a1-T2A-FlpO;Ai65-315067  \n",
      "1    Mus musculus  584628021  Vipr2-IRES2-Cre;Slc32a1-T2A-FlpO;Ai65-315072  \n",
      "2    Mus musculus  563340185                  Ndnf-IRES2-dgCre;Ai14-292670  \n",
      "3    Mus musculus  586420039                   Vipr2-IRES2-Cre;Ai14-316908  \n",
      "4    Mus musculus  418778062             Scnn1a-Tg3-Cre;Ai14(IVSCC)-180211  \n",
      "\n",
      "[5 rows x 54 columns]\n"
     ]
    }
   ],
   "source": [
    "cell_type_VISp = cell_type_df[cell_type_df['structure_parent__acronym'].str.contains('VISp')].reset_index(drop=True).fillna(0)\n",
    "cell_type_VISpm = cell_type_df[cell_type_df['structure_parent__acronym'].str.contains('VISpm')].reset_index(drop=True).fillna(0)\n",
    "print(cell_type_VISp.head())\n",
    "print(cell_type_VISpm.head())"
   ]
  },
  {
   "cell_type": "markdown",
   "metadata": {},
   "source": [
    "From these datasets, making another dataframe specifically including average firing rate, peak to ramp, adaptation index, and time constant from VISp and VISpm data respectively."
   ]
  },
  {
   "cell_type": "code",
   "execution_count": 5,
   "metadata": {},
   "outputs": [
    {
     "name": "stdout",
     "output_type": "stream",
     "text": [
      "   ef__avg_firing_rate  ef__peak_t_ramp    ef__tau  ef__adaptation  \\\n",
      "0             0.000000        14.737200  11.291090        0.000000   \n",
      "1            79.952029        11.763022   4.121689        0.000643   \n",
      "2            12.666099         8.423400   5.166574       -0.015098   \n",
      "3            17.890688         2.851312  20.567767        0.032340   \n",
      "4            10.611937         3.421542  23.182755        0.026732   \n",
      "\n",
      "  structure_parent__acronym  \n",
      "0                      VISp  \n",
      "1                      VISp  \n",
      "2                      VISp  \n",
      "3                      VISp  \n",
      "4                      VISp  \n",
      "   ef__avg_firing_rate  ef__peak_t_ramp    ef__tau  ef__adaptation  \\\n",
      "0            39.570967         9.657793   7.296395        0.012464   \n",
      "1            41.345379         8.521987   6.825851        0.010213   \n",
      "2            21.317416         3.257533  25.230889        0.033795   \n",
      "3            73.053430        11.424590   6.992904        0.001740   \n",
      "4            16.740791         3.190572  19.412868        0.027348   \n",
      "\n",
      "  structure_parent__acronym  \n",
      "0                     VISpm  \n",
      "1                     VISpm  \n",
      "2                     VISpm  \n",
      "3                     VISpm  \n",
      "4                     VISpm  \n"
     ]
    }
   ],
   "source": [
    "visp_features = cell_type_VISp[['ef__avg_firing_rate','ef__peak_t_ramp','ef__tau', 'ef__adaptation', 'structure_parent__acronym']]\n",
    "vispm_features = cell_type_VISpm[['ef__avg_firing_rate','ef__peak_t_ramp','ef__tau', 'ef__adaptation', 'structure_parent__acronym']]\n",
    "print(visp_features.head())\n",
    "print(vispm_features.head())"
   ]
  },
  {
   "cell_type": "markdown",
   "metadata": {},
   "source": [
    "The VISp dataset contains VISpl, VISp, VISpm, and VISpor. Every row of data that contains VISpl, pm, and por must be deleted."
   ]
  },
  {
   "cell_type": "code",
   "execution_count": 6,
   "metadata": {},
   "outputs": [
    {
     "name": "stdout",
     "output_type": "stream",
     "text": [
      "['VISp']\n"
     ]
    }
   ],
   "source": [
    "visp_features = visp_features[visp_features['structure_parent__acronym']!= 'VISpl']\n",
    "visp_features = visp_features[visp_features['structure_parent__acronym']!= 'VISpm']\n",
    "visp_features = visp_features[visp_features['structure_parent__acronym']!= 'VISpor']\n",
    "\n",
    "#to make sure that they are removed:\n",
    "print(visp_features.structure_parent__acronym.unique())"
   ]
  },
  {
   "cell_type": "markdown",
   "metadata": {},
   "source": [
    "The two VISp and VISpm datasets can now be combined for later analysis."
   ]
  },
  {
   "cell_type": "code",
   "execution_count": 7,
   "metadata": {},
   "outputs": [
    {
     "name": "stdout",
     "output_type": "stream",
     "text": [
      "   ef__avg_firing_rate  ef__peak_t_ramp    ef__tau  ef__adaptation  \\\n",
      "0             0.000000        14.737200  11.291090        0.000000   \n",
      "1            79.952029        11.763022   4.121689        0.000643   \n",
      "2            12.666099         8.423400   5.166574       -0.015098   \n",
      "3            17.890688         2.851312  20.567767        0.032340   \n",
      "4            10.611937         3.421542  23.182755        0.026732   \n",
      "\n",
      "  structure_parent__acronym  \n",
      "0                      VISp  \n",
      "1                      VISp  \n",
      "2                      VISp  \n",
      "3                      VISp  \n",
      "4                      VISp  \n"
     ]
    }
   ],
   "source": [
    "visp_and_m_features = pd.concat([visp_features, vispm_features],axis = 0)\n",
    "print(visp_and_m_features.head())\n"
   ]
  },
  {
   "cell_type": "markdown",
   "metadata": {},
   "source": [
    "Another dataset must be made for Cell Types VISp and VISpm data with only firing rate and structure acronym, to be used for analysis between both datasets. "
   ]
  },
  {
   "cell_type": "code",
   "execution_count": 8,
   "metadata": {},
   "outputs": [
    {
     "name": "stdout",
     "output_type": "stream",
     "text": [
      "   firing_rate ecephys_structure_acronym\n",
      "0     0.000000                      VISp\n",
      "1    79.952029                      VISp\n",
      "2    12.666099                      VISp\n",
      "3    17.890688                      VISp\n",
      "4    10.611937                      VISp\n"
     ]
    }
   ],
   "source": [
    "cell_p = cell_type_VISp[['ef__avg_firing_rate']].fillna(0)\n",
    "cell_p['firing_rate'] = cell_p['ef__avg_firing_rate']\n",
    "cell_p = cell_p.drop(['ef__avg_firing_rate'],axis=1)\n",
    "cell_p['ecephys_structure_acronym'] = cell_type_VISp['structure_parent__acronym']\n",
    "print(cell_p.head())"
   ]
  },
  {
   "cell_type": "markdown",
   "metadata": {},
   "source": [
    "This dataset contains data from VISpm, VISpor, and VISpl neurons, which must be deleted so that only VISp data remains."
   ]
  },
  {
   "cell_type": "code",
   "execution_count": 9,
   "metadata": {},
   "outputs": [
    {
     "name": "stdout",
     "output_type": "stream",
     "text": [
      "['VISp']\n"
     ]
    }
   ],
   "source": [
    "cell_p = cell_p[cell_p['ecephys_structure_acronym']!= 'VISpl']\n",
    "cell_p = cell_p[cell_p['ecephys_structure_acronym']!= 'VISpm']\n",
    "cell_p = cell_p[cell_p['ecephys_structure_acronym']!= 'VISpor']\n",
    "print(cell_p.ecephys_structure_acronym.unique())"
   ]
  },
  {
   "cell_type": "code",
   "execution_count": 10,
   "metadata": {},
   "outputs": [
    {
     "name": "stdout",
     "output_type": "stream",
     "text": [
      "   firing_rate ecephys_structure_acronym\n",
      "0    39.570967                     VISpm\n",
      "1    41.345379                     VISpm\n",
      "2    21.317416                     VISpm\n",
      "3    73.053430                     VISpm\n",
      "4    16.740791                     VISpm\n"
     ]
    }
   ],
   "source": [
    "cell_pm = cell_type_VISpm[['ef__avg_firing_rate']].fillna(0)\n",
    "cell_pm['firing_rate'] = cell_pm['ef__avg_firing_rate']\n",
    "cell_pm = cell_pm.drop(['ef__avg_firing_rate'],axis=1)\n",
    "cell_pm['ecephys_structure_acronym'] = cell_type_VISpm['structure_parent__acronym']\n",
    "print(cell_pm.head())"
   ]
  },
  {
   "cell_type": "markdown",
   "metadata": {},
   "source": [
    "Creating an EphysProjectCache object for the Neuropixels data and retrieving all sessions."
   ]
  },
  {
   "cell_type": "code",
   "execution_count": 11,
   "metadata": {},
   "outputs": [
    {
     "name": "stdout",
     "output_type": "stream",
     "text": [
      "Total number of sessions: 58\n"
     ]
    },
    {
     "data": {
      "text/html": [
       "<div>\n",
       "<style scoped>\n",
       "    .dataframe tbody tr th:only-of-type {\n",
       "        vertical-align: middle;\n",
       "    }\n",
       "\n",
       "    .dataframe tbody tr th {\n",
       "        vertical-align: top;\n",
       "    }\n",
       "\n",
       "    .dataframe thead th {\n",
       "        text-align: right;\n",
       "    }\n",
       "</style>\n",
       "<table border=\"1\" class=\"dataframe\">\n",
       "  <thead>\n",
       "    <tr style=\"text-align: right;\">\n",
       "      <th></th>\n",
       "      <th>published_at</th>\n",
       "      <th>specimen_id</th>\n",
       "      <th>session_type</th>\n",
       "      <th>age_in_days</th>\n",
       "      <th>sex</th>\n",
       "      <th>full_genotype</th>\n",
       "      <th>unit_count</th>\n",
       "      <th>channel_count</th>\n",
       "      <th>probe_count</th>\n",
       "      <th>ecephys_structure_acronyms</th>\n",
       "    </tr>\n",
       "    <tr>\n",
       "      <th>id</th>\n",
       "      <th></th>\n",
       "      <th></th>\n",
       "      <th></th>\n",
       "      <th></th>\n",
       "      <th></th>\n",
       "      <th></th>\n",
       "      <th></th>\n",
       "      <th></th>\n",
       "      <th></th>\n",
       "      <th></th>\n",
       "    </tr>\n",
       "  </thead>\n",
       "  <tbody>\n",
       "    <tr>\n",
       "      <th>715093703</th>\n",
       "      <td>2019-10-03T00:00:00Z</td>\n",
       "      <td>699733581</td>\n",
       "      <td>brain_observatory_1.1</td>\n",
       "      <td>118.0</td>\n",
       "      <td>M</td>\n",
       "      <td>Sst-IRES-Cre/wt;Ai32(RCL-ChR2(H134R)_EYFP)/wt</td>\n",
       "      <td>884</td>\n",
       "      <td>2219</td>\n",
       "      <td>6</td>\n",
       "      <td>[CA1, VISrl, nan, PO, LP, LGd, CA3, DG, VISl, ...</td>\n",
       "    </tr>\n",
       "    <tr>\n",
       "      <th>719161530</th>\n",
       "      <td>2019-10-03T00:00:00Z</td>\n",
       "      <td>703279284</td>\n",
       "      <td>brain_observatory_1.1</td>\n",
       "      <td>122.0</td>\n",
       "      <td>M</td>\n",
       "      <td>Sst-IRES-Cre/wt;Ai32(RCL-ChR2(H134R)_EYFP)/wt</td>\n",
       "      <td>755</td>\n",
       "      <td>2214</td>\n",
       "      <td>6</td>\n",
       "      <td>[TH, Eth, APN, POL, LP, DG, CA1, VISpm, nan, N...</td>\n",
       "    </tr>\n",
       "    <tr>\n",
       "      <th>721123822</th>\n",
       "      <td>2019-10-03T00:00:00Z</td>\n",
       "      <td>707296982</td>\n",
       "      <td>brain_observatory_1.1</td>\n",
       "      <td>125.0</td>\n",
       "      <td>M</td>\n",
       "      <td>Pvalb-IRES-Cre/wt;Ai32(RCL-ChR2(H134R)_EYFP)/wt</td>\n",
       "      <td>444</td>\n",
       "      <td>2229</td>\n",
       "      <td>6</td>\n",
       "      <td>[MB, SCig, PPT, NOT, DG, CA1, VISam, nan, LP, ...</td>\n",
       "    </tr>\n",
       "    <tr>\n",
       "      <th>732592105</th>\n",
       "      <td>2019-10-03T00:00:00Z</td>\n",
       "      <td>717038288</td>\n",
       "      <td>brain_observatory_1.1</td>\n",
       "      <td>100.0</td>\n",
       "      <td>M</td>\n",
       "      <td>wt/wt</td>\n",
       "      <td>824</td>\n",
       "      <td>1847</td>\n",
       "      <td>5</td>\n",
       "      <td>[grey, VISpm, nan, VISp, VISl, VISal, VISrl]</td>\n",
       "    </tr>\n",
       "    <tr>\n",
       "      <th>737581020</th>\n",
       "      <td>2019-10-03T00:00:00Z</td>\n",
       "      <td>718643567</td>\n",
       "      <td>brain_observatory_1.1</td>\n",
       "      <td>108.0</td>\n",
       "      <td>M</td>\n",
       "      <td>wt/wt</td>\n",
       "      <td>568</td>\n",
       "      <td>2218</td>\n",
       "      <td>6</td>\n",
       "      <td>[grey, VISmma, nan, VISpm, VISp, VISl, VISrl]</td>\n",
       "    </tr>\n",
       "  </tbody>\n",
       "</table>\n",
       "</div>"
      ],
      "text/plain": [
       "                   published_at  specimen_id           session_type  \\\n",
       "id                                                                    \n",
       "715093703  2019-10-03T00:00:00Z    699733581  brain_observatory_1.1   \n",
       "719161530  2019-10-03T00:00:00Z    703279284  brain_observatory_1.1   \n",
       "721123822  2019-10-03T00:00:00Z    707296982  brain_observatory_1.1   \n",
       "732592105  2019-10-03T00:00:00Z    717038288  brain_observatory_1.1   \n",
       "737581020  2019-10-03T00:00:00Z    718643567  brain_observatory_1.1   \n",
       "\n",
       "           age_in_days sex                                    full_genotype  \\\n",
       "id                                                                            \n",
       "715093703        118.0   M    Sst-IRES-Cre/wt;Ai32(RCL-ChR2(H134R)_EYFP)/wt   \n",
       "719161530        122.0   M    Sst-IRES-Cre/wt;Ai32(RCL-ChR2(H134R)_EYFP)/wt   \n",
       "721123822        125.0   M  Pvalb-IRES-Cre/wt;Ai32(RCL-ChR2(H134R)_EYFP)/wt   \n",
       "732592105        100.0   M                                            wt/wt   \n",
       "737581020        108.0   M                                            wt/wt   \n",
       "\n",
       "           unit_count  channel_count  probe_count  \\\n",
       "id                                                  \n",
       "715093703         884           2219            6   \n",
       "719161530         755           2214            6   \n",
       "721123822         444           2229            6   \n",
       "732592105         824           1847            5   \n",
       "737581020         568           2218            6   \n",
       "\n",
       "                                  ecephys_structure_acronyms  \n",
       "id                                                            \n",
       "715093703  [CA1, VISrl, nan, PO, LP, LGd, CA3, DG, VISl, ...  \n",
       "719161530  [TH, Eth, APN, POL, LP, DG, CA1, VISpm, nan, N...  \n",
       "721123822  [MB, SCig, PPT, NOT, DG, CA1, VISam, nan, LP, ...  \n",
       "732592105       [grey, VISpm, nan, VISp, VISl, VISal, VISrl]  \n",
       "737581020      [grey, VISmma, nan, VISpm, VISp, VISl, VISrl]  "
      ]
     },
     "execution_count": 11,
     "metadata": {},
     "output_type": "execute_result"
    }
   ],
   "source": [
    "cache = EcephysProjectCache.fixed(manifest=manifest_path)\n",
    "sessions = cache.get_session_table()\n",
    "print('Total number of sessions: ' + str(len(sessions)))\n",
    "sessions.head()"
   ]
  },
  {
   "cell_type": "markdown",
   "metadata": {},
   "source": [
    "We are looking at experiments performed on a specific genotype Pvalb (Parvalbumin)"
   ]
  },
  {
   "cell_type": "code",
   "execution_count": 12,
   "metadata": {},
   "outputs": [],
   "source": [
    "pvalb_sessions = sessions[sessions.full_genotype.str.match('Pvalb')]"
   ]
  },
  {
   "cell_type": "markdown",
   "metadata": {},
   "source": [
    "We select one of the above sessions to extract information about the optotagging stimuli that were delivered. We use session.optogenetic_stimulation_epochs to load a DataFrame that contains the information about the optotagging stimuli."
   ]
  },
  {
   "cell_type": "code",
   "execution_count": 13,
   "metadata": {},
   "outputs": [
    {
     "data": {
      "text/html": [
       "<div>\n",
       "<style scoped>\n",
       "    .dataframe tbody tr th:only-of-type {\n",
       "        vertical-align: middle;\n",
       "    }\n",
       "\n",
       "    .dataframe tbody tr th {\n",
       "        vertical-align: top;\n",
       "    }\n",
       "\n",
       "    .dataframe thead th {\n",
       "        text-align: right;\n",
       "    }\n",
       "</style>\n",
       "<table border=\"1\" class=\"dataframe\">\n",
       "  <thead>\n",
       "    <tr style=\"text-align: right;\">\n",
       "      <th></th>\n",
       "      <th>start_time</th>\n",
       "      <th>stop_time</th>\n",
       "      <th>condition</th>\n",
       "      <th>level</th>\n",
       "      <th>name</th>\n",
       "      <th>duration</th>\n",
       "    </tr>\n",
       "    <tr>\n",
       "      <th>id</th>\n",
       "      <th></th>\n",
       "      <th></th>\n",
       "      <th></th>\n",
       "      <th></th>\n",
       "      <th></th>\n",
       "      <th></th>\n",
       "    </tr>\n",
       "  </thead>\n",
       "  <tbody>\n",
       "    <tr>\n",
       "      <th>0</th>\n",
       "      <td>9234.87886</td>\n",
       "      <td>9235.87886</td>\n",
       "      <td>2.5 ms pulses at 10 Hz</td>\n",
       "      <td>4.0</td>\n",
       "      <td>fast_pulses</td>\n",
       "      <td>1.00</td>\n",
       "    </tr>\n",
       "    <tr>\n",
       "      <th>1</th>\n",
       "      <td>9236.83907</td>\n",
       "      <td>9237.83907</td>\n",
       "      <td>half-period of a cosine wave</td>\n",
       "      <td>4.0</td>\n",
       "      <td>raised_cosine</td>\n",
       "      <td>1.00</td>\n",
       "    </tr>\n",
       "    <tr>\n",
       "      <th>2</th>\n",
       "      <td>9238.79929</td>\n",
       "      <td>9238.80929</td>\n",
       "      <td>a single square pulse</td>\n",
       "      <td>2.5</td>\n",
       "      <td>pulse</td>\n",
       "      <td>0.01</td>\n",
       "    </tr>\n",
       "    <tr>\n",
       "      <th>3</th>\n",
       "      <td>9240.61920</td>\n",
       "      <td>9241.61920</td>\n",
       "      <td>half-period of a cosine wave</td>\n",
       "      <td>1.0</td>\n",
       "      <td>raised_cosine</td>\n",
       "      <td>1.00</td>\n",
       "    </tr>\n",
       "    <tr>\n",
       "      <th>4</th>\n",
       "      <td>9242.65927</td>\n",
       "      <td>9243.65927</td>\n",
       "      <td>half-period of a cosine wave</td>\n",
       "      <td>2.5</td>\n",
       "      <td>raised_cosine</td>\n",
       "      <td>1.00</td>\n",
       "    </tr>\n",
       "    <tr>\n",
       "      <th>...</th>\n",
       "      <td>...</td>\n",
       "      <td>...</td>\n",
       "      <td>...</td>\n",
       "      <td>...</td>\n",
       "      <td>...</td>\n",
       "      <td>...</td>\n",
       "    </tr>\n",
       "    <tr>\n",
       "      <th>175</th>\n",
       "      <td>9576.69382</td>\n",
       "      <td>9576.70382</td>\n",
       "      <td>a single square pulse</td>\n",
       "      <td>4.0</td>\n",
       "      <td>pulse</td>\n",
       "      <td>0.01</td>\n",
       "    </tr>\n",
       "    <tr>\n",
       "      <th>176</th>\n",
       "      <td>9578.60395</td>\n",
       "      <td>9579.60395</td>\n",
       "      <td>half-period of a cosine wave</td>\n",
       "      <td>4.0</td>\n",
       "      <td>raised_cosine</td>\n",
       "      <td>1.00</td>\n",
       "    </tr>\n",
       "    <tr>\n",
       "      <th>177</th>\n",
       "      <td>9580.48399</td>\n",
       "      <td>9581.48399</td>\n",
       "      <td>half-period of a cosine wave</td>\n",
       "      <td>1.0</td>\n",
       "      <td>raised_cosine</td>\n",
       "      <td>1.00</td>\n",
       "    </tr>\n",
       "    <tr>\n",
       "      <th>178</th>\n",
       "      <td>9582.38406</td>\n",
       "      <td>9583.38406</td>\n",
       "      <td>half-period of a cosine wave</td>\n",
       "      <td>4.0</td>\n",
       "      <td>raised_cosine</td>\n",
       "      <td>1.00</td>\n",
       "    </tr>\n",
       "    <tr>\n",
       "      <th>179</th>\n",
       "      <td>9584.47419</td>\n",
       "      <td>9585.47419</td>\n",
       "      <td>2.5 ms pulses at 10 Hz</td>\n",
       "      <td>1.0</td>\n",
       "      <td>fast_pulses</td>\n",
       "      <td>1.00</td>\n",
       "    </tr>\n",
       "  </tbody>\n",
       "</table>\n",
       "<p>180 rows × 6 columns</p>\n",
       "</div>"
      ],
      "text/plain": [
       "     start_time   stop_time                     condition  level  \\\n",
       "id                                                                 \n",
       "0    9234.87886  9235.87886        2.5 ms pulses at 10 Hz    4.0   \n",
       "1    9236.83907  9237.83907  half-period of a cosine wave    4.0   \n",
       "2    9238.79929  9238.80929         a single square pulse    2.5   \n",
       "3    9240.61920  9241.61920  half-period of a cosine wave    1.0   \n",
       "4    9242.65927  9243.65927  half-period of a cosine wave    2.5   \n",
       "..          ...         ...                           ...    ...   \n",
       "175  9576.69382  9576.70382         a single square pulse    4.0   \n",
       "176  9578.60395  9579.60395  half-period of a cosine wave    4.0   \n",
       "177  9580.48399  9581.48399  half-period of a cosine wave    1.0   \n",
       "178  9582.38406  9583.38406  half-period of a cosine wave    4.0   \n",
       "179  9584.47419  9585.47419        2.5 ms pulses at 10 Hz    1.0   \n",
       "\n",
       "              name  duration  \n",
       "id                            \n",
       "0      fast_pulses      1.00  \n",
       "1    raised_cosine      1.00  \n",
       "2            pulse      0.01  \n",
       "3    raised_cosine      1.00  \n",
       "4    raised_cosine      1.00  \n",
       "..             ...       ...  \n",
       "175          pulse      0.01  \n",
       "176  raised_cosine      1.00  \n",
       "177  raised_cosine      1.00  \n",
       "178  raised_cosine      1.00  \n",
       "179    fast_pulses      1.00  \n",
       "\n",
       "[180 rows x 6 columns]"
      ]
     },
     "execution_count": 13,
     "metadata": {},
     "output_type": "execute_result"
    }
   ],
   "source": [
    "session = cache.get_session_data(pvalb_sessions.index.values[1])\n",
    "session.optogenetic_stimulation_epochs"
   ]
  },
  {
   "cell_type": "markdown",
   "metadata": {},
   "source": [
    "Under the stimulus condition of 10ms pulses, we align spikes in VISp to the start of each light pulse so that we can the average firing rate for each unit in VISp as a function of time."
   ]
  },
  {
   "cell_type": "code",
   "execution_count": 14,
   "metadata": {},
   "outputs": [],
   "source": [
    "trials = session.optogenetic_stimulation_epochs[(session.optogenetic_stimulation_epochs.duration > 0.009) & \\\n",
    "                                                (session.optogenetic_stimulation_epochs.duration < 0.02)]\n",
    "\n",
    "units = session.units[session.units.ecephys_structure_acronym.str.match('VISp')]\n",
    "\n",
    "time_resolution = 0.0005 # 0.5 ms bins\n",
    "\n",
    "bin_edges = np.arange(-0.01, 0.025, time_resolution)\n",
    "\n",
    "def optotagging_spike_counts(bin_edges, trials, units):\n",
    "    \n",
    "    time_resolution = np.mean(np.diff(bin_edges))\n",
    "\n",
    "    spike_matrix = np.zeros( (len(trials), len(bin_edges), len(units)) )\n",
    "\n",
    "    for unit_idx, unit_id in enumerate(units.index.values):\n",
    "\n",
    "        spike_times = session.spike_times[unit_id]\n",
    "\n",
    "        for trial_idx, trial_start in enumerate(trials.start_time.values):\n",
    "\n",
    "            in_range = (spike_times > (trial_start + bin_edges[0])) * \\\n",
    "                       (spike_times < (trial_start + bin_edges[-1]))\n",
    "\n",
    "            binned_times = ((spike_times[in_range] - (trial_start + bin_edges[0])) / time_resolution).astype('int')\n",
    "            spike_matrix[trial_idx, binned_times, unit_idx] = 1\n",
    "\n",
    "    return xr.DataArray(\n",
    "        name='spike_counts',\n",
    "        data=spike_matrix,\n",
    "        coords={\n",
    "            'trial_id': trials.index.values,\n",
    "            'time_relative_to_stimulus_onset': bin_edges,\n",
    "            'unit_id': units.index.values\n",
    "        },\n",
    "        dims=['trial_id', 'time_relative_to_stimulus_onset', 'unit_id']\n",
    "    )\n",
    "\n",
    "da_visp = optotagging_spike_counts(bin_edges, trials, units)\n"
   ]
  },
  {
   "cell_type": "markdown",
   "metadata": {},
   "source": [
    "Selecting units in VISp that increase their firing rate during the 10 ms pulse"
   ]
  },
  {
   "cell_type": "code",
   "execution_count": 15,
   "metadata": {},
   "outputs": [],
   "source": [
    "baseline_visp = da_visp.sel(time_relative_to_stimulus_onset=slice(-0.01,-0.002))\n",
    "\n",
    "baseline_rate_visp = baseline_visp.sum(dim='time_relative_to_stimulus_onset').mean(dim='trial_id') / 0.008\n",
    "\n",
    "evoked_visp = da_visp.sel(time_relative_to_stimulus_onset=slice(0.001,0.009))\n",
    "\n",
    "evoked_rate_visp = evoked_visp.sum(dim='time_relative_to_stimulus_onset').mean(dim='trial_id') / 0.008"
   ]
  },
  {
   "cell_type": "markdown",
   "metadata": {},
   "source": [
    "Selecting a threshold: 2x increase in firing rate to find PV+ insterneurons in VISp"
   ]
  },
  {
   "cell_type": "code",
   "execution_count": 16,
   "metadata": {},
   "outputs": [
    {
     "data": {
      "text/plain": [
       "array([951880545, 951880526, 951880711, 951882217, 951880845, 951880931,\n",
       "       951880964, 951881254, 951881219, 951882047, 951882340, 951876240,\n",
       "       951876468, 951876517, 951876827, 951876906, 951877130])"
      ]
     },
     "execution_count": 16,
     "metadata": {},
     "output_type": "execute_result"
    }
   ],
   "source": [
    "cre_pos_units_visp = da_visp.unit_id[(evoked_rate_visp / (baseline_rate_visp + 1)) > 2].values\n",
    "\n",
    "cre_pos_units_visp"
   ]
  },
  {
   "cell_type": "markdown",
   "metadata": {},
   "source": [
    "Adding a cell_type column to the VISp units dataset and assigning \"PV+\" or \"PV-\"to each VISp units"
   ]
  },
  {
   "cell_type": "code",
   "execution_count": 17,
   "metadata": {},
   "outputs": [
    {
     "data": {
      "text/html": [
       "<div>\n",
       "<style scoped>\n",
       "    .dataframe tbody tr th:only-of-type {\n",
       "        vertical-align: middle;\n",
       "    }\n",
       "\n",
       "    .dataframe tbody tr th {\n",
       "        vertical-align: top;\n",
       "    }\n",
       "\n",
       "    .dataframe thead th {\n",
       "        text-align: right;\n",
       "    }\n",
       "</style>\n",
       "<table border=\"1\" class=\"dataframe\">\n",
       "  <thead>\n",
       "    <tr style=\"text-align: right;\">\n",
       "      <th></th>\n",
       "      <th>max_drift</th>\n",
       "      <th>isolation_distance</th>\n",
       "      <th>amplitude_cutoff</th>\n",
       "      <th>peak_channel_id</th>\n",
       "      <th>presence_ratio</th>\n",
       "      <th>waveform_recovery_slope</th>\n",
       "      <th>silhouette_score</th>\n",
       "      <th>waveform_amplitude</th>\n",
       "      <th>firing_rate</th>\n",
       "      <th>L_ratio</th>\n",
       "      <th>...</th>\n",
       "      <th>ecephys_structure_acronym</th>\n",
       "      <th>anterior_posterior_ccf_coordinate</th>\n",
       "      <th>dorsal_ventral_ccf_coordinate</th>\n",
       "      <th>left_right_ccf_coordinate</th>\n",
       "      <th>probe_description</th>\n",
       "      <th>location</th>\n",
       "      <th>probe_sampling_rate</th>\n",
       "      <th>probe_lfp_sampling_rate</th>\n",
       "      <th>probe_has_lfp_data</th>\n",
       "      <th>cell_type</th>\n",
       "    </tr>\n",
       "    <tr>\n",
       "      <th>unit_id</th>\n",
       "      <th></th>\n",
       "      <th></th>\n",
       "      <th></th>\n",
       "      <th></th>\n",
       "      <th></th>\n",
       "      <th></th>\n",
       "      <th></th>\n",
       "      <th></th>\n",
       "      <th></th>\n",
       "      <th></th>\n",
       "      <th></th>\n",
       "      <th></th>\n",
       "      <th></th>\n",
       "      <th></th>\n",
       "      <th></th>\n",
       "      <th></th>\n",
       "      <th></th>\n",
       "      <th></th>\n",
       "      <th></th>\n",
       "      <th></th>\n",
       "      <th></th>\n",
       "    </tr>\n",
       "  </thead>\n",
       "  <tbody>\n",
       "    <tr>\n",
       "      <th>951880505</th>\n",
       "      <td>33.75</td>\n",
       "      <td>46.470468</td>\n",
       "      <td>0.079979</td>\n",
       "      <td>849740974</td>\n",
       "      <td>0.99</td>\n",
       "      <td>-0.006206</td>\n",
       "      <td>0.051662</td>\n",
       "      <td>85.019025</td>\n",
       "      <td>2.264710</td>\n",
       "      <td>0.010990</td>\n",
       "      <td>...</td>\n",
       "      <td>VISpm</td>\n",
       "      <td>-1000</td>\n",
       "      <td>-1000</td>\n",
       "      <td>-1000</td>\n",
       "      <td>probeA</td>\n",
       "      <td></td>\n",
       "      <td>29999.971918</td>\n",
       "      <td>1249.99883</td>\n",
       "      <td>True</td>\n",
       "      <td>PV-</td>\n",
       "    </tr>\n",
       "    <tr>\n",
       "      <th>951880514</th>\n",
       "      <td>38.24</td>\n",
       "      <td>59.206188</td>\n",
       "      <td>0.004442</td>\n",
       "      <td>849740972</td>\n",
       "      <td>0.99</td>\n",
       "      <td>-0.034808</td>\n",
       "      <td>0.098987</td>\n",
       "      <td>105.848340</td>\n",
       "      <td>6.061888</td>\n",
       "      <td>0.013646</td>\n",
       "      <td>...</td>\n",
       "      <td>VISpm</td>\n",
       "      <td>-1000</td>\n",
       "      <td>-1000</td>\n",
       "      <td>-1000</td>\n",
       "      <td>probeA</td>\n",
       "      <td></td>\n",
       "      <td>29999.971918</td>\n",
       "      <td>1249.99883</td>\n",
       "      <td>True</td>\n",
       "      <td>PV-</td>\n",
       "    </tr>\n",
       "    <tr>\n",
       "      <th>951880485</th>\n",
       "      <td>40.52</td>\n",
       "      <td>89.544932</td>\n",
       "      <td>0.007652</td>\n",
       "      <td>849740972</td>\n",
       "      <td>0.99</td>\n",
       "      <td>-0.049190</td>\n",
       "      <td>0.105417</td>\n",
       "      <td>122.360940</td>\n",
       "      <td>13.787772</td>\n",
       "      <td>0.003165</td>\n",
       "      <td>...</td>\n",
       "      <td>VISpm</td>\n",
       "      <td>-1000</td>\n",
       "      <td>-1000</td>\n",
       "      <td>-1000</td>\n",
       "      <td>probeA</td>\n",
       "      <td></td>\n",
       "      <td>29999.971918</td>\n",
       "      <td>1249.99883</td>\n",
       "      <td>True</td>\n",
       "      <td>PV-</td>\n",
       "    </tr>\n",
       "    <tr>\n",
       "      <th>951880545</th>\n",
       "      <td>39.68</td>\n",
       "      <td>55.758505</td>\n",
       "      <td>0.017945</td>\n",
       "      <td>849740978</td>\n",
       "      <td>0.99</td>\n",
       "      <td>-0.051330</td>\n",
       "      <td>0.108410</td>\n",
       "      <td>100.304880</td>\n",
       "      <td>2.157048</td>\n",
       "      <td>0.003213</td>\n",
       "      <td>...</td>\n",
       "      <td>VISpm</td>\n",
       "      <td>-1000</td>\n",
       "      <td>-1000</td>\n",
       "      <td>-1000</td>\n",
       "      <td>probeA</td>\n",
       "      <td></td>\n",
       "      <td>29999.971918</td>\n",
       "      <td>1249.99883</td>\n",
       "      <td>True</td>\n",
       "      <td>PV+</td>\n",
       "    </tr>\n",
       "    <tr>\n",
       "      <th>951880526</th>\n",
       "      <td>38.98</td>\n",
       "      <td>57.378069</td>\n",
       "      <td>0.005278</td>\n",
       "      <td>849740976</td>\n",
       "      <td>0.99</td>\n",
       "      <td>-0.033964</td>\n",
       "      <td>0.047172</td>\n",
       "      <td>111.880080</td>\n",
       "      <td>2.814485</td>\n",
       "      <td>0.003848</td>\n",
       "      <td>...</td>\n",
       "      <td>VISpm</td>\n",
       "      <td>-1000</td>\n",
       "      <td>-1000</td>\n",
       "      <td>-1000</td>\n",
       "      <td>probeA</td>\n",
       "      <td></td>\n",
       "      <td>29999.971918</td>\n",
       "      <td>1249.99883</td>\n",
       "      <td>True</td>\n",
       "      <td>PV+</td>\n",
       "    </tr>\n",
       "    <tr>\n",
       "      <th>...</th>\n",
       "      <td>...</td>\n",
       "      <td>...</td>\n",
       "      <td>...</td>\n",
       "      <td>...</td>\n",
       "      <td>...</td>\n",
       "      <td>...</td>\n",
       "      <td>...</td>\n",
       "      <td>...</td>\n",
       "      <td>...</td>\n",
       "      <td>...</td>\n",
       "      <td>...</td>\n",
       "      <td>...</td>\n",
       "      <td>...</td>\n",
       "      <td>...</td>\n",
       "      <td>...</td>\n",
       "      <td>...</td>\n",
       "      <td>...</td>\n",
       "      <td>...</td>\n",
       "      <td>...</td>\n",
       "      <td>...</td>\n",
       "      <td>...</td>\n",
       "    </tr>\n",
       "    <tr>\n",
       "      <th>951889030</th>\n",
       "      <td>34.07</td>\n",
       "      <td>57.296190</td>\n",
       "      <td>0.027046</td>\n",
       "      <td>849737494</td>\n",
       "      <td>0.99</td>\n",
       "      <td>-0.058973</td>\n",
       "      <td>0.032974</td>\n",
       "      <td>97.991790</td>\n",
       "      <td>13.559037</td>\n",
       "      <td>0.057708</td>\n",
       "      <td>...</td>\n",
       "      <td>VISp</td>\n",
       "      <td>-1000</td>\n",
       "      <td>-1000</td>\n",
       "      <td>-1000</td>\n",
       "      <td>probeC</td>\n",
       "      <td></td>\n",
       "      <td>29999.998792</td>\n",
       "      <td>1249.99995</td>\n",
       "      <td>True</td>\n",
       "      <td>PV-</td>\n",
       "    </tr>\n",
       "    <tr>\n",
       "      <th>951888972</th>\n",
       "      <td>41.70</td>\n",
       "      <td>50.317562</td>\n",
       "      <td>0.020908</td>\n",
       "      <td>849737494</td>\n",
       "      <td>0.99</td>\n",
       "      <td>-0.116377</td>\n",
       "      <td>0.090421</td>\n",
       "      <td>130.783575</td>\n",
       "      <td>4.317223</td>\n",
       "      <td>0.024088</td>\n",
       "      <td>...</td>\n",
       "      <td>VISp</td>\n",
       "      <td>-1000</td>\n",
       "      <td>-1000</td>\n",
       "      <td>-1000</td>\n",
       "      <td>probeC</td>\n",
       "      <td></td>\n",
       "      <td>29999.998792</td>\n",
       "      <td>1249.99995</td>\n",
       "      <td>True</td>\n",
       "      <td>PV-</td>\n",
       "    </tr>\n",
       "    <tr>\n",
       "      <th>951889021</th>\n",
       "      <td>50.91</td>\n",
       "      <td>40.022983</td>\n",
       "      <td>0.040265</td>\n",
       "      <td>849737498</td>\n",
       "      <td>0.99</td>\n",
       "      <td>-0.019718</td>\n",
       "      <td>0.050865</td>\n",
       "      <td>94.690635</td>\n",
       "      <td>6.782832</td>\n",
       "      <td>0.103088</td>\n",
       "      <td>...</td>\n",
       "      <td>VISp</td>\n",
       "      <td>-1000</td>\n",
       "      <td>-1000</td>\n",
       "      <td>-1000</td>\n",
       "      <td>probeC</td>\n",
       "      <td></td>\n",
       "      <td>29999.998792</td>\n",
       "      <td>1249.99995</td>\n",
       "      <td>True</td>\n",
       "      <td>PV-</td>\n",
       "    </tr>\n",
       "    <tr>\n",
       "      <th>951889425</th>\n",
       "      <td>27.50</td>\n",
       "      <td>53.688846</td>\n",
       "      <td>0.003255</td>\n",
       "      <td>849737512</td>\n",
       "      <td>0.98</td>\n",
       "      <td>-0.069328</td>\n",
       "      <td>0.188389</td>\n",
       "      <td>178.910355</td>\n",
       "      <td>0.230895</td>\n",
       "      <td>0.001249</td>\n",
       "      <td>...</td>\n",
       "      <td>VISp</td>\n",
       "      <td>-1000</td>\n",
       "      <td>-1000</td>\n",
       "      <td>-1000</td>\n",
       "      <td>probeC</td>\n",
       "      <td></td>\n",
       "      <td>29999.998792</td>\n",
       "      <td>1249.99995</td>\n",
       "      <td>True</td>\n",
       "      <td>PV-</td>\n",
       "    </tr>\n",
       "    <tr>\n",
       "      <th>951889147</th>\n",
       "      <td>28.15</td>\n",
       "      <td>123.482899</td>\n",
       "      <td>0.002684</td>\n",
       "      <td>849737518</td>\n",
       "      <td>0.99</td>\n",
       "      <td>-0.061318</td>\n",
       "      <td>0.081802</td>\n",
       "      <td>97.926855</td>\n",
       "      <td>14.335694</td>\n",
       "      <td>0.001258</td>\n",
       "      <td>...</td>\n",
       "      <td>VISp</td>\n",
       "      <td>-1000</td>\n",
       "      <td>-1000</td>\n",
       "      <td>-1000</td>\n",
       "      <td>probeC</td>\n",
       "      <td></td>\n",
       "      <td>29999.998792</td>\n",
       "      <td>1249.99995</td>\n",
       "      <td>True</td>\n",
       "      <td>PV-</td>\n",
       "    </tr>\n",
       "  </tbody>\n",
       "</table>\n",
       "<p>129 rows × 90 columns</p>\n",
       "</div>"
      ],
      "text/plain": [
       "           max_drift  isolation_distance  amplitude_cutoff  peak_channel_id  \\\n",
       "unit_id                                                                       \n",
       "951880505      33.75           46.470468          0.079979        849740974   \n",
       "951880514      38.24           59.206188          0.004442        849740972   \n",
       "951880485      40.52           89.544932          0.007652        849740972   \n",
       "951880545      39.68           55.758505          0.017945        849740978   \n",
       "951880526      38.98           57.378069          0.005278        849740976   \n",
       "...              ...                 ...               ...              ...   \n",
       "951889030      34.07           57.296190          0.027046        849737494   \n",
       "951888972      41.70           50.317562          0.020908        849737494   \n",
       "951889021      50.91           40.022983          0.040265        849737498   \n",
       "951889425      27.50           53.688846          0.003255        849737512   \n",
       "951889147      28.15          123.482899          0.002684        849737518   \n",
       "\n",
       "           presence_ratio  waveform_recovery_slope  silhouette_score  \\\n",
       "unit_id                                                                \n",
       "951880505            0.99                -0.006206          0.051662   \n",
       "951880514            0.99                -0.034808          0.098987   \n",
       "951880485            0.99                -0.049190          0.105417   \n",
       "951880545            0.99                -0.051330          0.108410   \n",
       "951880526            0.99                -0.033964          0.047172   \n",
       "...                   ...                      ...               ...   \n",
       "951889030            0.99                -0.058973          0.032974   \n",
       "951888972            0.99                -0.116377          0.090421   \n",
       "951889021            0.99                -0.019718          0.050865   \n",
       "951889425            0.98                -0.069328          0.188389   \n",
       "951889147            0.99                -0.061318          0.081802   \n",
       "\n",
       "           waveform_amplitude  firing_rate   L_ratio  ...  \\\n",
       "unit_id                                               ...   \n",
       "951880505           85.019025     2.264710  0.010990  ...   \n",
       "951880514          105.848340     6.061888  0.013646  ...   \n",
       "951880485          122.360940    13.787772  0.003165  ...   \n",
       "951880545          100.304880     2.157048  0.003213  ...   \n",
       "951880526          111.880080     2.814485  0.003848  ...   \n",
       "...                       ...          ...       ...  ...   \n",
       "951889030           97.991790    13.559037  0.057708  ...   \n",
       "951888972          130.783575     4.317223  0.024088  ...   \n",
       "951889021           94.690635     6.782832  0.103088  ...   \n",
       "951889425          178.910355     0.230895  0.001249  ...   \n",
       "951889147           97.926855    14.335694  0.001258  ...   \n",
       "\n",
       "           ecephys_structure_acronym  anterior_posterior_ccf_coordinate  \\\n",
       "unit_id                                                                   \n",
       "951880505                      VISpm                              -1000   \n",
       "951880514                      VISpm                              -1000   \n",
       "951880485                      VISpm                              -1000   \n",
       "951880545                      VISpm                              -1000   \n",
       "951880526                      VISpm                              -1000   \n",
       "...                              ...                                ...   \n",
       "951889030                       VISp                              -1000   \n",
       "951888972                       VISp                              -1000   \n",
       "951889021                       VISp                              -1000   \n",
       "951889425                       VISp                              -1000   \n",
       "951889147                       VISp                              -1000   \n",
       "\n",
       "           dorsal_ventral_ccf_coordinate  left_right_ccf_coordinate  \\\n",
       "unit_id                                                               \n",
       "951880505                          -1000                      -1000   \n",
       "951880514                          -1000                      -1000   \n",
       "951880485                          -1000                      -1000   \n",
       "951880545                          -1000                      -1000   \n",
       "951880526                          -1000                      -1000   \n",
       "...                                  ...                        ...   \n",
       "951889030                          -1000                      -1000   \n",
       "951888972                          -1000                      -1000   \n",
       "951889021                          -1000                      -1000   \n",
       "951889425                          -1000                      -1000   \n",
       "951889147                          -1000                      -1000   \n",
       "\n",
       "           probe_description  location  probe_sampling_rate  \\\n",
       "unit_id                                                       \n",
       "951880505             probeA                   29999.971918   \n",
       "951880514             probeA                   29999.971918   \n",
       "951880485             probeA                   29999.971918   \n",
       "951880545             probeA                   29999.971918   \n",
       "951880526             probeA                   29999.971918   \n",
       "...                      ...       ...                  ...   \n",
       "951889030             probeC                   29999.998792   \n",
       "951888972             probeC                   29999.998792   \n",
       "951889021             probeC                   29999.998792   \n",
       "951889425             probeC                   29999.998792   \n",
       "951889147             probeC                   29999.998792   \n",
       "\n",
       "           probe_lfp_sampling_rate  probe_has_lfp_data  cell_type  \n",
       "unit_id                                                            \n",
       "951880505               1249.99883                True        PV-  \n",
       "951880514               1249.99883                True        PV-  \n",
       "951880485               1249.99883                True        PV-  \n",
       "951880545               1249.99883                True        PV+  \n",
       "951880526               1249.99883                True        PV+  \n",
       "...                            ...                 ...        ...  \n",
       "951889030               1249.99995                True        PV-  \n",
       "951888972               1249.99995                True        PV-  \n",
       "951889021               1249.99995                True        PV-  \n",
       "951889425               1249.99995                True        PV-  \n",
       "951889147               1249.99995                True        PV-  \n",
       "\n",
       "[129 rows x 90 columns]"
      ]
     },
     "execution_count": 17,
     "metadata": {},
     "output_type": "execute_result"
    }
   ],
   "source": [
    "cre_pos_units_visp=list(cre_pos_units_visp)\n",
    "df_visp_units=session.units[session.units.ecephys_structure_acronym.str.match('VISp')]\n",
    "df_visp_units_index = df_visp_units.index.values.tolist()\n",
    "df_visp_units['cell_type']=''\n",
    "id = df_visp_units.index.values.tolist()\n",
    "\n",
    "\n",
    "df_visp_units_rows = len(df_visp_units.axes[0])\n",
    "\n",
    "\n",
    "for i in range(df_visp_units_rows):\n",
    "    if id[i] in cre_pos_units_visp:\n",
    "        df_visp_units.at[id [i],'cell_type']='PV+'\n",
    "    else:\n",
    "        df_visp_units.at[id [i],'cell_type']='PV-'\n",
    "\n",
    "df_visp_units"
   ]
  },
  {
   "cell_type": "markdown",
   "metadata": {},
   "source": [
    "Generating another dataset with VISp units cell_type and firing_rate columns "
   ]
  },
  {
   "cell_type": "code",
   "execution_count": 18,
   "metadata": {},
   "outputs": [
    {
     "data": {
      "text/html": [
       "<div>\n",
       "<style scoped>\n",
       "    .dataframe tbody tr th:only-of-type {\n",
       "        vertical-align: middle;\n",
       "    }\n",
       "\n",
       "    .dataframe tbody tr th {\n",
       "        vertical-align: top;\n",
       "    }\n",
       "\n",
       "    .dataframe thead th {\n",
       "        text-align: right;\n",
       "    }\n",
       "</style>\n",
       "<table border=\"1\" class=\"dataframe\">\n",
       "  <thead>\n",
       "    <tr style=\"text-align: right;\">\n",
       "      <th></th>\n",
       "      <th>firing_rate</th>\n",
       "      <th>cell_type</th>\n",
       "    </tr>\n",
       "    <tr>\n",
       "      <th>unit_id</th>\n",
       "      <th></th>\n",
       "      <th></th>\n",
       "    </tr>\n",
       "  </thead>\n",
       "  <tbody>\n",
       "    <tr>\n",
       "      <th>951880505</th>\n",
       "      <td>2.264710</td>\n",
       "      <td>PV-</td>\n",
       "    </tr>\n",
       "    <tr>\n",
       "      <th>951880514</th>\n",
       "      <td>6.061888</td>\n",
       "      <td>PV-</td>\n",
       "    </tr>\n",
       "    <tr>\n",
       "      <th>951880485</th>\n",
       "      <td>13.787772</td>\n",
       "      <td>PV-</td>\n",
       "    </tr>\n",
       "    <tr>\n",
       "      <th>951880545</th>\n",
       "      <td>2.157048</td>\n",
       "      <td>PV+</td>\n",
       "    </tr>\n",
       "    <tr>\n",
       "      <th>951880526</th>\n",
       "      <td>2.814485</td>\n",
       "      <td>PV+</td>\n",
       "    </tr>\n",
       "    <tr>\n",
       "      <th>...</th>\n",
       "      <td>...</td>\n",
       "      <td>...</td>\n",
       "    </tr>\n",
       "    <tr>\n",
       "      <th>951889030</th>\n",
       "      <td>13.559037</td>\n",
       "      <td>PV-</td>\n",
       "    </tr>\n",
       "    <tr>\n",
       "      <th>951888972</th>\n",
       "      <td>4.317223</td>\n",
       "      <td>PV-</td>\n",
       "    </tr>\n",
       "    <tr>\n",
       "      <th>951889021</th>\n",
       "      <td>6.782832</td>\n",
       "      <td>PV-</td>\n",
       "    </tr>\n",
       "    <tr>\n",
       "      <th>951889425</th>\n",
       "      <td>0.230895</td>\n",
       "      <td>PV-</td>\n",
       "    </tr>\n",
       "    <tr>\n",
       "      <th>951889147</th>\n",
       "      <td>14.335694</td>\n",
       "      <td>PV-</td>\n",
       "    </tr>\n",
       "  </tbody>\n",
       "</table>\n",
       "<p>129 rows × 2 columns</p>\n",
       "</div>"
      ],
      "text/plain": [
       "           firing_rate cell_type\n",
       "unit_id                         \n",
       "951880505     2.264710       PV-\n",
       "951880514     6.061888       PV-\n",
       "951880485    13.787772       PV-\n",
       "951880545     2.157048       PV+\n",
       "951880526     2.814485       PV+\n",
       "...                ...       ...\n",
       "951889030    13.559037       PV-\n",
       "951888972     4.317223       PV-\n",
       "951889021     6.782832       PV-\n",
       "951889425     0.230895       PV-\n",
       "951889147    14.335694       PV-\n",
       "\n",
       "[129 rows x 2 columns]"
      ]
     },
     "execution_count": 18,
     "metadata": {},
     "output_type": "execute_result"
    }
   ],
   "source": [
    "df_visp_firing_rate = df_visp_units[['firing_rate','cell_type']]\n",
    "df_visp_firing_rate"
   ]
  },
  {
   "cell_type": "markdown",
   "metadata": {},
   "source": [
    "Under the stimulus condition of 10ms pulses, aligning spikes in VISpm to the start of each light pulse so that we can the average firing rate for each unit in VISpm as a function of time."
   ]
  },
  {
   "cell_type": "code",
   "execution_count": 19,
   "metadata": {},
   "outputs": [],
   "source": [
    "trials = session.optogenetic_stimulation_epochs[(session.optogenetic_stimulation_epochs.duration > 0.009) & \\\n",
    "                                                (session.optogenetic_stimulation_epochs.duration < 0.02)]\n",
    "\n",
    "units = session.units[session.units.ecephys_structure_acronym.str.match('VISpm')]\n",
    "\n",
    "time_resolution = 0.0005 # 0.5 ms bins\n",
    "\n",
    "bin_edges = np.arange(-0.01, 0.025, time_resolution)\n",
    "\n",
    "def optotagging_spike_counts(bin_edges, trials, units):\n",
    "    \n",
    "    time_resolution = np.mean(np.diff(bin_edges))\n",
    "\n",
    "    spike_matrix = np.zeros( (len(trials), len(bin_edges), len(units)) )\n",
    "\n",
    "    for unit_idx, unit_id in enumerate(units.index.values):\n",
    "\n",
    "        spike_times = session.spike_times[unit_id]\n",
    "\n",
    "        for trial_idx, trial_start in enumerate(trials.start_time.values):\n",
    "\n",
    "            in_range = (spike_times > (trial_start + bin_edges[0])) * \\\n",
    "                       (spike_times < (trial_start + bin_edges[-1]))\n",
    "\n",
    "            binned_times = ((spike_times[in_range] - (trial_start + bin_edges[0])) / time_resolution).astype('int')\n",
    "            spike_matrix[trial_idx, binned_times, unit_idx] = 1\n",
    "\n",
    "    return xr.DataArray(\n",
    "        name='spike_counts',\n",
    "        data=spike_matrix,\n",
    "        coords={\n",
    "            'trial_id': trials.index.values,\n",
    "            'time_relative_to_stimulus_onset': bin_edges,\n",
    "            'unit_id': units.index.values\n",
    "        },\n",
    "        dims=['trial_id', 'time_relative_to_stimulus_onset', 'unit_id']\n",
    "    )\n",
    "\n",
    "da_vispm = optotagging_spike_counts(bin_edges, trials, units)\n"
   ]
  },
  {
   "cell_type": "markdown",
   "metadata": {},
   "source": [
    "Selecting units in VISpm that increase their firing rate during the 10ms pulse "
   ]
  },
  {
   "cell_type": "code",
   "execution_count": 20,
   "metadata": {},
   "outputs": [],
   "source": [
    "baseline_vispm = da_vispm.sel(time_relative_to_stimulus_onset=slice(-0.01,-0.002))\n",
    "\n",
    "baseline_rate_vispm = baseline_vispm.sum(dim='time_relative_to_stimulus_onset').mean(dim='trial_id') / 0.008\n",
    "\n",
    "evoked_vispm = da_vispm.sel(time_relative_to_stimulus_onset=slice(0.001,0.009))\n",
    "\n",
    "evoked_rate_vispm = evoked_vispm.sum(dim='time_relative_to_stimulus_onset').mean(dim='trial_id') / 0.008"
   ]
  },
  {
   "cell_type": "markdown",
   "metadata": {},
   "source": [
    "Selecting a threshold: 2x increase in firing rate (red line) to find PV+ insterneurons in VISpm"
   ]
  },
  {
   "cell_type": "code",
   "execution_count": 21,
   "metadata": {},
   "outputs": [
    {
     "data": {
      "text/plain": [
       "array([951880545, 951880526, 951880711, 951882217, 951880845, 951880931,\n",
       "       951880964, 951881254, 951881219, 951882047, 951882340, 951876240,\n",
       "       951876468, 951876517, 951876827, 951876906, 951877130])"
      ]
     },
     "execution_count": 21,
     "metadata": {},
     "output_type": "execute_result"
    }
   ],
   "source": [
    "cre_pos_units_vispm = da_vispm.unit_id[(evoked_rate_vispm / (baseline_rate_vispm + 1)) > 2].values \n",
    "cre_pos_units_vispm"
   ]
  },
  {
   "cell_type": "markdown",
   "metadata": {},
   "source": [
    "Adding a cell_type column to the VISp units dataset and assigning \"PV+\" or \"PV-\"to each VISp units"
   ]
  },
  {
   "cell_type": "code",
   "execution_count": 22,
   "metadata": {},
   "outputs": [
    {
     "data": {
      "text/html": [
       "<div>\n",
       "<style scoped>\n",
       "    .dataframe tbody tr th:only-of-type {\n",
       "        vertical-align: middle;\n",
       "    }\n",
       "\n",
       "    .dataframe tbody tr th {\n",
       "        vertical-align: top;\n",
       "    }\n",
       "\n",
       "    .dataframe thead th {\n",
       "        text-align: right;\n",
       "    }\n",
       "</style>\n",
       "<table border=\"1\" class=\"dataframe\">\n",
       "  <thead>\n",
       "    <tr style=\"text-align: right;\">\n",
       "      <th></th>\n",
       "      <th>max_drift</th>\n",
       "      <th>isolation_distance</th>\n",
       "      <th>amplitude_cutoff</th>\n",
       "      <th>peak_channel_id</th>\n",
       "      <th>presence_ratio</th>\n",
       "      <th>waveform_recovery_slope</th>\n",
       "      <th>silhouette_score</th>\n",
       "      <th>waveform_amplitude</th>\n",
       "      <th>firing_rate</th>\n",
       "      <th>L_ratio</th>\n",
       "      <th>...</th>\n",
       "      <th>ecephys_structure_acronym</th>\n",
       "      <th>anterior_posterior_ccf_coordinate</th>\n",
       "      <th>dorsal_ventral_ccf_coordinate</th>\n",
       "      <th>left_right_ccf_coordinate</th>\n",
       "      <th>probe_description</th>\n",
       "      <th>location</th>\n",
       "      <th>probe_sampling_rate</th>\n",
       "      <th>probe_lfp_sampling_rate</th>\n",
       "      <th>probe_has_lfp_data</th>\n",
       "      <th>cell_type</th>\n",
       "    </tr>\n",
       "    <tr>\n",
       "      <th>unit_id</th>\n",
       "      <th></th>\n",
       "      <th></th>\n",
       "      <th></th>\n",
       "      <th></th>\n",
       "      <th></th>\n",
       "      <th></th>\n",
       "      <th></th>\n",
       "      <th></th>\n",
       "      <th></th>\n",
       "      <th></th>\n",
       "      <th></th>\n",
       "      <th></th>\n",
       "      <th></th>\n",
       "      <th></th>\n",
       "      <th></th>\n",
       "      <th></th>\n",
       "      <th></th>\n",
       "      <th></th>\n",
       "      <th></th>\n",
       "      <th></th>\n",
       "      <th></th>\n",
       "    </tr>\n",
       "  </thead>\n",
       "  <tbody>\n",
       "    <tr>\n",
       "      <th>951880505</th>\n",
       "      <td>33.75</td>\n",
       "      <td>46.470468</td>\n",
       "      <td>0.079979</td>\n",
       "      <td>849740974</td>\n",
       "      <td>0.99</td>\n",
       "      <td>-0.006206</td>\n",
       "      <td>0.051662</td>\n",
       "      <td>85.019025</td>\n",
       "      <td>2.264710</td>\n",
       "      <td>0.010990</td>\n",
       "      <td>...</td>\n",
       "      <td>VISpm</td>\n",
       "      <td>-1000</td>\n",
       "      <td>-1000</td>\n",
       "      <td>-1000</td>\n",
       "      <td>probeA</td>\n",
       "      <td></td>\n",
       "      <td>29999.971918</td>\n",
       "      <td>1249.998830</td>\n",
       "      <td>True</td>\n",
       "      <td>PV-</td>\n",
       "    </tr>\n",
       "    <tr>\n",
       "      <th>951880514</th>\n",
       "      <td>38.24</td>\n",
       "      <td>59.206188</td>\n",
       "      <td>0.004442</td>\n",
       "      <td>849740972</td>\n",
       "      <td>0.99</td>\n",
       "      <td>-0.034808</td>\n",
       "      <td>0.098987</td>\n",
       "      <td>105.848340</td>\n",
       "      <td>6.061888</td>\n",
       "      <td>0.013646</td>\n",
       "      <td>...</td>\n",
       "      <td>VISpm</td>\n",
       "      <td>-1000</td>\n",
       "      <td>-1000</td>\n",
       "      <td>-1000</td>\n",
       "      <td>probeA</td>\n",
       "      <td></td>\n",
       "      <td>29999.971918</td>\n",
       "      <td>1249.998830</td>\n",
       "      <td>True</td>\n",
       "      <td>PV-</td>\n",
       "    </tr>\n",
       "    <tr>\n",
       "      <th>951880485</th>\n",
       "      <td>40.52</td>\n",
       "      <td>89.544932</td>\n",
       "      <td>0.007652</td>\n",
       "      <td>849740972</td>\n",
       "      <td>0.99</td>\n",
       "      <td>-0.049190</td>\n",
       "      <td>0.105417</td>\n",
       "      <td>122.360940</td>\n",
       "      <td>13.787772</td>\n",
       "      <td>0.003165</td>\n",
       "      <td>...</td>\n",
       "      <td>VISpm</td>\n",
       "      <td>-1000</td>\n",
       "      <td>-1000</td>\n",
       "      <td>-1000</td>\n",
       "      <td>probeA</td>\n",
       "      <td></td>\n",
       "      <td>29999.971918</td>\n",
       "      <td>1249.998830</td>\n",
       "      <td>True</td>\n",
       "      <td>PV-</td>\n",
       "    </tr>\n",
       "    <tr>\n",
       "      <th>951880545</th>\n",
       "      <td>39.68</td>\n",
       "      <td>55.758505</td>\n",
       "      <td>0.017945</td>\n",
       "      <td>849740978</td>\n",
       "      <td>0.99</td>\n",
       "      <td>-0.051330</td>\n",
       "      <td>0.108410</td>\n",
       "      <td>100.304880</td>\n",
       "      <td>2.157048</td>\n",
       "      <td>0.003213</td>\n",
       "      <td>...</td>\n",
       "      <td>VISpm</td>\n",
       "      <td>-1000</td>\n",
       "      <td>-1000</td>\n",
       "      <td>-1000</td>\n",
       "      <td>probeA</td>\n",
       "      <td></td>\n",
       "      <td>29999.971918</td>\n",
       "      <td>1249.998830</td>\n",
       "      <td>True</td>\n",
       "      <td>PV+</td>\n",
       "    </tr>\n",
       "    <tr>\n",
       "      <th>951880526</th>\n",
       "      <td>38.98</td>\n",
       "      <td>57.378069</td>\n",
       "      <td>0.005278</td>\n",
       "      <td>849740976</td>\n",
       "      <td>0.99</td>\n",
       "      <td>-0.033964</td>\n",
       "      <td>0.047172</td>\n",
       "      <td>111.880080</td>\n",
       "      <td>2.814485</td>\n",
       "      <td>0.003848</td>\n",
       "      <td>...</td>\n",
       "      <td>VISpm</td>\n",
       "      <td>-1000</td>\n",
       "      <td>-1000</td>\n",
       "      <td>-1000</td>\n",
       "      <td>probeA</td>\n",
       "      <td></td>\n",
       "      <td>29999.971918</td>\n",
       "      <td>1249.998830</td>\n",
       "      <td>True</td>\n",
       "      <td>PV+</td>\n",
       "    </tr>\n",
       "    <tr>\n",
       "      <th>...</th>\n",
       "      <td>...</td>\n",
       "      <td>...</td>\n",
       "      <td>...</td>\n",
       "      <td>...</td>\n",
       "      <td>...</td>\n",
       "      <td>...</td>\n",
       "      <td>...</td>\n",
       "      <td>...</td>\n",
       "      <td>...</td>\n",
       "      <td>...</td>\n",
       "      <td>...</td>\n",
       "      <td>...</td>\n",
       "      <td>...</td>\n",
       "      <td>...</td>\n",
       "      <td>...</td>\n",
       "      <td>...</td>\n",
       "      <td>...</td>\n",
       "      <td>...</td>\n",
       "      <td>...</td>\n",
       "      <td>...</td>\n",
       "      <td>...</td>\n",
       "    </tr>\n",
       "    <tr>\n",
       "      <th>951877130</th>\n",
       "      <td>10.33</td>\n",
       "      <td>39.250499</td>\n",
       "      <td>0.050423</td>\n",
       "      <td>849738800</td>\n",
       "      <td>0.99</td>\n",
       "      <td>-0.051865</td>\n",
       "      <td>0.007757</td>\n",
       "      <td>97.661265</td>\n",
       "      <td>16.767858</td>\n",
       "      <td>0.172112</td>\n",
       "      <td>...</td>\n",
       "      <td>VISpm</td>\n",
       "      <td>-1000</td>\n",
       "      <td>-1000</td>\n",
       "      <td>-1000</td>\n",
       "      <td>probeB</td>\n",
       "      <td></td>\n",
       "      <td>29999.920462</td>\n",
       "      <td>1249.996686</td>\n",
       "      <td>True</td>\n",
       "      <td>PV+</td>\n",
       "    </tr>\n",
       "    <tr>\n",
       "      <th>951877115</th>\n",
       "      <td>9.94</td>\n",
       "      <td>31.292133</td>\n",
       "      <td>0.066866</td>\n",
       "      <td>849738800</td>\n",
       "      <td>0.99</td>\n",
       "      <td>-0.064726</td>\n",
       "      <td>0.002326</td>\n",
       "      <td>105.325935</td>\n",
       "      <td>11.092469</td>\n",
       "      <td>0.222665</td>\n",
       "      <td>...</td>\n",
       "      <td>VISpm</td>\n",
       "      <td>-1000</td>\n",
       "      <td>-1000</td>\n",
       "      <td>-1000</td>\n",
       "      <td>probeB</td>\n",
       "      <td></td>\n",
       "      <td>29999.920462</td>\n",
       "      <td>1249.996686</td>\n",
       "      <td>True</td>\n",
       "      <td>PV-</td>\n",
       "    </tr>\n",
       "    <tr>\n",
       "      <th>951877102</th>\n",
       "      <td>15.91</td>\n",
       "      <td>33.937280</td>\n",
       "      <td>0.066776</td>\n",
       "      <td>849738800</td>\n",
       "      <td>0.99</td>\n",
       "      <td>-0.070027</td>\n",
       "      <td>0.009881</td>\n",
       "      <td>109.654545</td>\n",
       "      <td>12.076011</td>\n",
       "      <td>0.198529</td>\n",
       "      <td>...</td>\n",
       "      <td>VISpm</td>\n",
       "      <td>-1000</td>\n",
       "      <td>-1000</td>\n",
       "      <td>-1000</td>\n",
       "      <td>probeB</td>\n",
       "      <td></td>\n",
       "      <td>29999.920462</td>\n",
       "      <td>1249.996686</td>\n",
       "      <td>True</td>\n",
       "      <td>PV-</td>\n",
       "    </tr>\n",
       "    <tr>\n",
       "      <th>951877395</th>\n",
       "      <td>7.59</td>\n",
       "      <td>88.418798</td>\n",
       "      <td>0.092654</td>\n",
       "      <td>849738830</td>\n",
       "      <td>0.99</td>\n",
       "      <td>-0.097955</td>\n",
       "      <td>0.115003</td>\n",
       "      <td>94.115385</td>\n",
       "      <td>12.954990</td>\n",
       "      <td>0.003724</td>\n",
       "      <td>...</td>\n",
       "      <td>VISpm</td>\n",
       "      <td>-1000</td>\n",
       "      <td>-1000</td>\n",
       "      <td>-1000</td>\n",
       "      <td>probeB</td>\n",
       "      <td></td>\n",
       "      <td>29999.920462</td>\n",
       "      <td>1249.996686</td>\n",
       "      <td>True</td>\n",
       "      <td>PV-</td>\n",
       "    </tr>\n",
       "    <tr>\n",
       "      <th>951877463</th>\n",
       "      <td>24.25</td>\n",
       "      <td>52.069136</td>\n",
       "      <td>0.001578</td>\n",
       "      <td>849738838</td>\n",
       "      <td>0.99</td>\n",
       "      <td>-0.039687</td>\n",
       "      <td>0.134298</td>\n",
       "      <td>159.198780</td>\n",
       "      <td>3.244172</td>\n",
       "      <td>0.002730</td>\n",
       "      <td>...</td>\n",
       "      <td>VISpm</td>\n",
       "      <td>-1000</td>\n",
       "      <td>-1000</td>\n",
       "      <td>-1000</td>\n",
       "      <td>probeB</td>\n",
       "      <td></td>\n",
       "      <td>29999.920462</td>\n",
       "      <td>1249.996686</td>\n",
       "      <td>True</td>\n",
       "      <td>PV-</td>\n",
       "    </tr>\n",
       "  </tbody>\n",
       "</table>\n",
       "<p>115 rows × 90 columns</p>\n",
       "</div>"
      ],
      "text/plain": [
       "           max_drift  isolation_distance  amplitude_cutoff  peak_channel_id  \\\n",
       "unit_id                                                                       \n",
       "951880505      33.75           46.470468          0.079979        849740974   \n",
       "951880514      38.24           59.206188          0.004442        849740972   \n",
       "951880485      40.52           89.544932          0.007652        849740972   \n",
       "951880545      39.68           55.758505          0.017945        849740978   \n",
       "951880526      38.98           57.378069          0.005278        849740976   \n",
       "...              ...                 ...               ...              ...   \n",
       "951877130      10.33           39.250499          0.050423        849738800   \n",
       "951877115       9.94           31.292133          0.066866        849738800   \n",
       "951877102      15.91           33.937280          0.066776        849738800   \n",
       "951877395       7.59           88.418798          0.092654        849738830   \n",
       "951877463      24.25           52.069136          0.001578        849738838   \n",
       "\n",
       "           presence_ratio  waveform_recovery_slope  silhouette_score  \\\n",
       "unit_id                                                                \n",
       "951880505            0.99                -0.006206          0.051662   \n",
       "951880514            0.99                -0.034808          0.098987   \n",
       "951880485            0.99                -0.049190          0.105417   \n",
       "951880545            0.99                -0.051330          0.108410   \n",
       "951880526            0.99                -0.033964          0.047172   \n",
       "...                   ...                      ...               ...   \n",
       "951877130            0.99                -0.051865          0.007757   \n",
       "951877115            0.99                -0.064726          0.002326   \n",
       "951877102            0.99                -0.070027          0.009881   \n",
       "951877395            0.99                -0.097955          0.115003   \n",
       "951877463            0.99                -0.039687          0.134298   \n",
       "\n",
       "           waveform_amplitude  firing_rate   L_ratio  ...  \\\n",
       "unit_id                                               ...   \n",
       "951880505           85.019025     2.264710  0.010990  ...   \n",
       "951880514          105.848340     6.061888  0.013646  ...   \n",
       "951880485          122.360940    13.787772  0.003165  ...   \n",
       "951880545          100.304880     2.157048  0.003213  ...   \n",
       "951880526          111.880080     2.814485  0.003848  ...   \n",
       "...                       ...          ...       ...  ...   \n",
       "951877130           97.661265    16.767858  0.172112  ...   \n",
       "951877115          105.325935    11.092469  0.222665  ...   \n",
       "951877102          109.654545    12.076011  0.198529  ...   \n",
       "951877395           94.115385    12.954990  0.003724  ...   \n",
       "951877463          159.198780     3.244172  0.002730  ...   \n",
       "\n",
       "           ecephys_structure_acronym  anterior_posterior_ccf_coordinate  \\\n",
       "unit_id                                                                   \n",
       "951880505                      VISpm                              -1000   \n",
       "951880514                      VISpm                              -1000   \n",
       "951880485                      VISpm                              -1000   \n",
       "951880545                      VISpm                              -1000   \n",
       "951880526                      VISpm                              -1000   \n",
       "...                              ...                                ...   \n",
       "951877130                      VISpm                              -1000   \n",
       "951877115                      VISpm                              -1000   \n",
       "951877102                      VISpm                              -1000   \n",
       "951877395                      VISpm                              -1000   \n",
       "951877463                      VISpm                              -1000   \n",
       "\n",
       "           dorsal_ventral_ccf_coordinate  left_right_ccf_coordinate  \\\n",
       "unit_id                                                               \n",
       "951880505                          -1000                      -1000   \n",
       "951880514                          -1000                      -1000   \n",
       "951880485                          -1000                      -1000   \n",
       "951880545                          -1000                      -1000   \n",
       "951880526                          -1000                      -1000   \n",
       "...                                  ...                        ...   \n",
       "951877130                          -1000                      -1000   \n",
       "951877115                          -1000                      -1000   \n",
       "951877102                          -1000                      -1000   \n",
       "951877395                          -1000                      -1000   \n",
       "951877463                          -1000                      -1000   \n",
       "\n",
       "           probe_description  location  probe_sampling_rate  \\\n",
       "unit_id                                                       \n",
       "951880505             probeA                   29999.971918   \n",
       "951880514             probeA                   29999.971918   \n",
       "951880485             probeA                   29999.971918   \n",
       "951880545             probeA                   29999.971918   \n",
       "951880526             probeA                   29999.971918   \n",
       "...                      ...       ...                  ...   \n",
       "951877130             probeB                   29999.920462   \n",
       "951877115             probeB                   29999.920462   \n",
       "951877102             probeB                   29999.920462   \n",
       "951877395             probeB                   29999.920462   \n",
       "951877463             probeB                   29999.920462   \n",
       "\n",
       "           probe_lfp_sampling_rate  probe_has_lfp_data  cell_type  \n",
       "unit_id                                                            \n",
       "951880505              1249.998830                True        PV-  \n",
       "951880514              1249.998830                True        PV-  \n",
       "951880485              1249.998830                True        PV-  \n",
       "951880545              1249.998830                True        PV+  \n",
       "951880526              1249.998830                True        PV+  \n",
       "...                            ...                 ...        ...  \n",
       "951877130              1249.996686                True        PV+  \n",
       "951877115              1249.996686                True        PV-  \n",
       "951877102              1249.996686                True        PV-  \n",
       "951877395              1249.996686                True        PV-  \n",
       "951877463              1249.996686                True        PV-  \n",
       "\n",
       "[115 rows x 90 columns]"
      ]
     },
     "execution_count": 22,
     "metadata": {},
     "output_type": "execute_result"
    }
   ],
   "source": [
    "df_vispm_units=session.units[session.units.ecephys_structure_acronym.str.match('VISpm')]\n",
    "df_vispm_units['cell_type']=''\n",
    "cre_pos_units_vispm=list(cre_pos_units_vispm)\n",
    "df_vispm_units_index = df_vispm_units.index.values.tolist()\n",
    "id = df_vispm_units.index.values.tolist()\n",
    "\n",
    "\n",
    "df_vispm_units_rows = len(df_vispm_units.axes[0])\n",
    "\n",
    "\n",
    "for i in range(df_vispm_units_rows):\n",
    "    if id[i] in cre_pos_units_vispm:\n",
    "        df_vispm_units.at[id [i],'cell_type']='PV+'\n",
    "    else:\n",
    "        df_vispm_units.at[id [i],'cell_type']='PV-'\n",
    "\n",
    "df_vispm_units"
   ]
  },
  {
   "cell_type": "markdown",
   "metadata": {},
   "source": [
    "Generating another dataset with VISpm units cell_type and firing_rate columns"
   ]
  },
  {
   "cell_type": "code",
   "execution_count": 23,
   "metadata": {},
   "outputs": [
    {
     "data": {
      "text/html": [
       "<div>\n",
       "<style scoped>\n",
       "    .dataframe tbody tr th:only-of-type {\n",
       "        vertical-align: middle;\n",
       "    }\n",
       "\n",
       "    .dataframe tbody tr th {\n",
       "        vertical-align: top;\n",
       "    }\n",
       "\n",
       "    .dataframe thead th {\n",
       "        text-align: right;\n",
       "    }\n",
       "</style>\n",
       "<table border=\"1\" class=\"dataframe\">\n",
       "  <thead>\n",
       "    <tr style=\"text-align: right;\">\n",
       "      <th></th>\n",
       "      <th>firing_rate</th>\n",
       "      <th>cell_type</th>\n",
       "    </tr>\n",
       "    <tr>\n",
       "      <th>unit_id</th>\n",
       "      <th></th>\n",
       "      <th></th>\n",
       "    </tr>\n",
       "  </thead>\n",
       "  <tbody>\n",
       "    <tr>\n",
       "      <th>951880505</th>\n",
       "      <td>2.264710</td>\n",
       "      <td>PV-</td>\n",
       "    </tr>\n",
       "    <tr>\n",
       "      <th>951880514</th>\n",
       "      <td>6.061888</td>\n",
       "      <td>PV-</td>\n",
       "    </tr>\n",
       "    <tr>\n",
       "      <th>951880485</th>\n",
       "      <td>13.787772</td>\n",
       "      <td>PV-</td>\n",
       "    </tr>\n",
       "    <tr>\n",
       "      <th>951880545</th>\n",
       "      <td>2.157048</td>\n",
       "      <td>PV+</td>\n",
       "    </tr>\n",
       "    <tr>\n",
       "      <th>951880526</th>\n",
       "      <td>2.814485</td>\n",
       "      <td>PV+</td>\n",
       "    </tr>\n",
       "    <tr>\n",
       "      <th>...</th>\n",
       "      <td>...</td>\n",
       "      <td>...</td>\n",
       "    </tr>\n",
       "    <tr>\n",
       "      <th>951877130</th>\n",
       "      <td>16.767858</td>\n",
       "      <td>PV+</td>\n",
       "    </tr>\n",
       "    <tr>\n",
       "      <th>951877115</th>\n",
       "      <td>11.092469</td>\n",
       "      <td>PV-</td>\n",
       "    </tr>\n",
       "    <tr>\n",
       "      <th>951877102</th>\n",
       "      <td>12.076011</td>\n",
       "      <td>PV-</td>\n",
       "    </tr>\n",
       "    <tr>\n",
       "      <th>951877395</th>\n",
       "      <td>12.954990</td>\n",
       "      <td>PV-</td>\n",
       "    </tr>\n",
       "    <tr>\n",
       "      <th>951877463</th>\n",
       "      <td>3.244172</td>\n",
       "      <td>PV-</td>\n",
       "    </tr>\n",
       "  </tbody>\n",
       "</table>\n",
       "<p>115 rows × 2 columns</p>\n",
       "</div>"
      ],
      "text/plain": [
       "           firing_rate cell_type\n",
       "unit_id                         \n",
       "951880505     2.264710       PV-\n",
       "951880514     6.061888       PV-\n",
       "951880485    13.787772       PV-\n",
       "951880545     2.157048       PV+\n",
       "951880526     2.814485       PV+\n",
       "...                ...       ...\n",
       "951877130    16.767858       PV+\n",
       "951877115    11.092469       PV-\n",
       "951877102    12.076011       PV-\n",
       "951877395    12.954990       PV-\n",
       "951877463     3.244172       PV-\n",
       "\n",
       "[115 rows x 2 columns]"
      ]
     },
     "execution_count": 23,
     "metadata": {},
     "output_type": "execute_result"
    }
   ],
   "source": [
    "df_vispm_firing_rate = df_vispm_units[['firing_rate','cell_type']]\n",
    "df_vispm_firing_rate"
   ]
  },
  {
   "cell_type": "code",
   "execution_count": 24,
   "metadata": {},
   "outputs": [
    {
     "name": "stdout",
     "output_type": "stream",
     "text": [
      "           firing_rate cell_type ecephys_structure_acronym\n",
      "unit_id                                                   \n",
      "951888688    19.822821       PV-                      VISp\n",
      "951888697     4.583840       PV-                      VISp\n",
      "951888780    23.041273       PV-                      VISp\n",
      "951888826     6.787595       PV-                      VISp\n",
      "951888857    13.335804       PV-                      VISp\n",
      "['VISp']\n"
     ]
    }
   ],
   "source": [
    "pixels_p = df_visp_units[['firing_rate', 'cell_type', 'ecephys_structure_acronym']]\n",
    "pixels_p = pixels_p[pixels_p['ecephys_structure_acronym'] != 'VISpm']\n",
    "print(pixels_p.head())\n",
    "print(pixels_p.ecephys_structure_acronym.unique())"
   ]
  },
  {
   "cell_type": "code",
   "execution_count": 25,
   "metadata": {},
   "outputs": [
    {
     "name": "stdout",
     "output_type": "stream",
     "text": [
      "           firing_rate cell_type ecephys_structure_acronym\n",
      "unit_id                                                   \n",
      "951888688    19.822821       PV-                      VISp\n",
      "951888697     4.583840       PV-                      VISp\n",
      "951888780    23.041273       PV-                      VISp\n",
      "951888826     6.787595       PV-                      VISp\n",
      "951888857    13.335804       PV-                      VISp\n",
      "           firing_rate cell_type ecephys_structure_acronym\n",
      "unit_id                                                   \n",
      "951880505     2.264710       PV-                     VISpm\n",
      "951880514     6.061888       PV-                     VISpm\n",
      "951880485    13.787772       PV-                     VISpm\n",
      "951880545     2.157048       PV+                     VISpm\n",
      "951880526     2.814485       PV+                     VISpm\n"
     ]
    }
   ],
   "source": [
    "pixels_pm = df_vispm_units[['firing_rate', 'cell_type', 'ecephys_structure_acronym']]\n",
    "print(pixels_p.head())\n",
    "print(pixels_pm.head())"
   ]
  },
  {
   "cell_type": "markdown",
   "metadata": {},
   "source": [
    "Combine the two"
   ]
  },
  {
   "cell_type": "code",
   "execution_count": 26,
   "metadata": {},
   "outputs": [
    {
     "name": "stdout",
     "output_type": "stream",
     "text": [
      "           firing_rate cell_type ecephys_structure_acronym\n",
      "unit_id                                                   \n",
      "951888688    19.822821       PV-                      VISp\n",
      "951888697     4.583840       PV-                      VISp\n",
      "951888780    23.041273       PV-                      VISp\n",
      "951888826     6.787595       PV-                      VISp\n",
      "951888857    13.335804       PV-                      VISp\n",
      "...                ...       ...                       ...\n",
      "951877130    16.767858       PV+                     VISpm\n",
      "951877115    11.092469       PV-                     VISpm\n",
      "951877102    12.076011       PV-                     VISpm\n",
      "951877395    12.954990       PV-                     VISpm\n",
      "951877463     3.244172       PV-                     VISpm\n",
      "\n",
      "[129 rows x 3 columns]\n"
     ]
    }
   ],
   "source": [
    "both_pixels = pd.concat([pixels_p, pixels_pm],axis=0)\n",
    "print(both_pixels)"
   ]
  },
  {
   "cell_type": "markdown",
   "metadata": {},
   "source": [
    "Combining Cell Types and Neuropixels datasets"
   ]
  },
  {
   "cell_type": "markdown",
   "metadata": {},
   "source": [
    "First let's look at all the modified VISp and VISpm datasets we have for the firing rate from both datasets"
   ]
  },
  {
   "cell_type": "code",
   "execution_count": 27,
   "metadata": {},
   "outputs": [
    {
     "name": "stdout",
     "output_type": "stream",
     "text": [
      "           firing_rate cell_type ecephys_structure_acronym\n",
      "unit_id                                                   \n",
      "951888688    19.822821       PV-                      VISp\n",
      "951888697     4.583840       PV-                      VISp\n",
      "951888780    23.041273       PV-                      VISp\n",
      "951888826     6.787595       PV-                      VISp\n",
      "951888857    13.335804       PV-                      VISp\n",
      "   firing_rate ecephys_structure_acronym\n",
      "0     0.000000                      VISp\n",
      "1    79.952029                      VISp\n",
      "2    12.666099                      VISp\n",
      "3    17.890688                      VISp\n",
      "4    10.611937                      VISp\n",
      "   firing_rate ecephys_structure_acronym\n",
      "0    39.570967                     VISpm\n",
      "1    41.345379                     VISpm\n",
      "2    21.317416                     VISpm\n",
      "3    73.053430                     VISpm\n",
      "4    16.740791                     VISpm\n"
     ]
    }
   ],
   "source": [
    "#neuropixels\n",
    "print(both_pixels.head())\n",
    "#cell types\n",
    "print(cell_p.head())\n",
    "print(cell_pm.head())"
   ]
  },
  {
   "cell_type": "markdown",
   "metadata": {},
   "source": [
    "Changing Cell Types modified datasets to include cell_type (pv +/-)"
   ]
  },
  {
   "cell_type": "code",
   "execution_count": 45,
   "metadata": {},
   "outputs": [
    {
     "name": "stdout",
     "output_type": "stream",
     "text": [
      "['VISp' 'VISpm']\n",
      "['VISp' 'VISpm']\n"
     ]
    }
   ],
   "source": [
    "cell_p['cell_type'] = 0\n",
    "cell_pm['cell_type'] = 0\n",
    "both_pixels = both_pixels.reindex(columns=['firing_rate', 'ecephys_structure_acronym', 'cell_type'])\n",
    "both_cells = pd.concat([cell_p,cell_pm],axis=0)\n",
    "print(both_pixels.ecephys_structure_acronym.unique())\n",
    "print(both_cells.ecephys_structure_acronym.unique())"
   ]
  },
  {
   "cell_type": "markdown",
   "metadata": {},
   "source": [
    "Combining the two datasets: Nueorpixels and Cell Types"
   ]
  },
  {
   "cell_type": "code",
   "execution_count": 46,
   "metadata": {},
   "outputs": [
    {
     "name": "stdout",
     "output_type": "stream",
     "text": [
      "           firing_rate ecephys_structure_acronym cell_type\n",
      "951888688    19.822821                      VISp       PV-\n",
      "951888697     4.583840                      VISp       PV-\n",
      "951888780    23.041273                      VISp       PV-\n",
      "951888826     6.787595                      VISp       PV-\n",
      "951888857    13.335804                      VISp       PV-\n",
      "...                ...                       ...       ...\n",
      "84           65.288801                     VISpm         0\n",
      "85          100.401606                     VISpm         0\n",
      "86           31.084528                     VISpm         0\n",
      "87           15.202519                     VISpm         0\n",
      "88           11.093362                     VISpm         0\n",
      "\n",
      "[1803 rows x 3 columns]\n"
     ]
    }
   ],
   "source": [
    "neuropix_and_celltypes = pd.concat([both_pixels, both_cells], axis = 0)\n",
    "print(neuropix_and_celltypes)"
   ]
  },
  {
   "cell_type": "code",
   "execution_count": 30,
   "metadata": {},
   "outputs": [],
   "source": [
    "#neuropix_and_celltypes.ecephys_structure_acronym.replace(['VISpm', 'VISp'], [0, 1], inplace=True)\n",
    "#print(neuropix_and_celltypes)"
   ]
  },
  {
   "cell_type": "markdown",
   "metadata": {},
   "source": [
    "Creating a new dataset to combine both Neuropixel and Cell Types data, with another column specifying which dataset the data is from."
   ]
  },
  {
   "cell_type": "code",
   "execution_count": 49,
   "metadata": {},
   "outputs": [],
   "source": [
    "specific_both_cells = both_cells['dataset'] = 'Cell Types'\n",
    "specific_both_pixels = both_pixels['dataset'] = 'Neuropixels'\n",
    "specific_both = pd.concat([both_cells, both_pixels], axis = 0)"
   ]
  },
  {
   "cell_type": "code",
   "execution_count": null,
   "metadata": {},
   "outputs": [],
   "source": []
  },
  {
   "cell_type": "markdown",
   "metadata": {},
   "source": [
    "## Data Analysis & Results"
   ]
  },
  {
   "cell_type": "markdown",
   "metadata": {},
   "source": [
    "Include cells that describe the steps in your data analysis."
   ]
  },
  {
   "cell_type": "markdown",
   "metadata": {},
   "source": [
    "Performing PCA on the VISp dataframe."
   ]
  },
  {
   "cell_type": "code",
   "execution_count": 88,
   "metadata": {},
   "outputs": [
    {
     "data": {
      "image/png": "[encoded data removed]",
      "text/plain": [
       "<Figure size 505.125x360 with 1 Axes>"
      ]
     },
     "metadata": {
      "needs_background": "light"
     },
     "output_type": "display_data"
    }
   ],
   "source": [
    "visp_data = visp_features.drop('structure_parent__acronym',axis=1)\n",
    "visp_data = (visp_data - visp_data.mean())/visp_data.std()\n",
    "pca = PCA(n_components = 2)           \n",
    "VISP_2D = pca.fit_transform(visp_data)  \n",
    "visp_features['PCA1'] = VISP_2D[:, 0]\n",
    "visp_features['PCA2'] = VISP_2D[:, 1]\n",
    "sns.lmplot(\"PCA1\", \"PCA2\",hue='structure_parent__acronym', data=visp_features, fit_reg=False, palette=\"husl\")\n",
    "sns.set_palette('Paired')\n",
    "plt.title('PCA for VISp Neurons in Cell Types Dataset')\n",
    "plt.show()\n",
    "plt.show()"
   ]
  },
  {
   "cell_type": "markdown",
   "metadata": {},
   "source": [
    "Performing PCA on the VISpm dataframe."
   ]
  },
  {
   "cell_type": "code",
   "execution_count": 89,
   "metadata": {},
   "outputs": [
    {
     "name": "stderr",
     "output_type": "stream",
     "text": [
      "/opt/conda/lib/python3.6/site-packages/ipykernel_launcher.py:5: SettingWithCopyWarning: \n",
      "A value is trying to be set on a copy of a slice from a DataFrame.\n",
      "Try using .loc[row_indexer,col_indexer] = value instead\n",
      "\n",
      "See the caveats in the documentation: http://pandas.pydata.org/pandas-docs/stable/user_guide/indexing.html#returning-a-view-versus-a-copy\n",
      "  \"\"\"\n",
      "/opt/conda/lib/python3.6/site-packages/ipykernel_launcher.py:6: SettingWithCopyWarning: \n",
      "A value is trying to be set on a copy of a slice from a DataFrame.\n",
      "Try using .loc[row_indexer,col_indexer] = value instead\n",
      "\n",
      "See the caveats in the documentation: http://pandas.pydata.org/pandas-docs/stable/user_guide/indexing.html#returning-a-view-versus-a-copy\n",
      "  \n"
     ]
    },
    {
     "data": {
      "image/png": "[encoded data removed]",
      "text/plain": [
       "<Figure size 505.125x360 with 1 Axes>"
      ]
     },
     "metadata": {
      "needs_background": "light"
     },
     "output_type": "display_data"
    }
   ],
   "source": [
    "vispm_data = vispm_features.drop('structure_parent__acronym',axis=1)\n",
    "vispm_data = (vispm_data - vispm_data.mean())/vispm_data.std()\n",
    "pca = PCA(n_components = 2)           \n",
    "VISPM_2D = pca.fit_transform(vispm_data)  \n",
    "vispm_features['PCA1'] = VISPM_2D[:, 0]\n",
    "vispm_features['PCA2'] = VISPM_2D[:, 1]\n",
    "sns.lmplot(\"PCA1\", \"PCA2\",hue='structure_parent__acronym', data=vispm_features, fit_reg=False, palette=\"husl\")\n",
    "plt.title('PCA for VISpm Neurons in Cell Types Dataset')\n",
    "plt.show()"
   ]
  },
  {
   "cell_type": "markdown",
   "metadata": {},
   "source": [
    "PCA for VISp and VISpm"
   ]
  },
  {
   "cell_type": "code",
   "execution_count": 91,
   "metadata": {},
   "outputs": [
    {
     "data": {
      "image/png": "[encoded data removed]",
      "text/plain": [
       "<Figure size 505.125x360 with 1 Axes>"
      ]
     },
     "metadata": {
      "needs_background": "light"
     },
     "output_type": "display_data"
    }
   ],
   "source": [
    "visp_and_m_data = visp_and_m_features.drop('structure_parent__acronym',axis=1)\n",
    "visp_and_m_data = (visp_and_m_data - visp_and_m_data.mean())/visp_and_m_data.std()\n",
    "pca = PCA(n_components = 2)           \n",
    "VISPM_2D = pca.fit_transform(visp_and_m_data)  \n",
    "visp_and_m_features['PCA1'] = VISPM_2D[:, 0]\n",
    "visp_and_m_features['PCA2'] = VISPM_2D[:, 1]\n",
    "sns.lmplot(\"PCA1\", \"PCA2\",hue='structure_parent__acronym', data=visp_and_m_features, fit_reg=False, palette=\"husl\")\n",
    "plt.title('PCA for VISp and VISpm Neurons in Cell Types Dataset')\n",
    "plt.show()"
   ]
  },
  {
   "cell_type": "markdown",
   "metadata": {},
   "source": [
    "K-Means Clustering of n=2 for VISp and VISpm combined data"
   ]
  },
  {
   "cell_type": "code",
   "execution_count": 92,
   "metadata": {},
   "outputs": [
    {
     "data": {
      "image/png": "[encoded data removed]",
      "text/plain": [
       "<Figure size 441.375x360 with 1 Axes>"
      ]
     },
     "metadata": {
      "needs_background": "light"
     },
     "output_type": "display_data"
    }
   ],
   "source": [
    "from sklearn.cluster import KMeans #Import the KMeans model\n",
    "\n",
    "kmeans = KMeans(n_clusters=2) # Set up a kmeans model with 3 clusters\n",
    "\n",
    "kmeans.fit(VISPM_2D) # Fit our two dimensional data\n",
    "y_kmeans = kmeans.predict(VISPM_2D) \n",
    "visp_and_m_features['kmeans_group'] = y_kmeans\n",
    "\n",
    "sns.lmplot(\"PCA1\", \"PCA2\", hue='kmeans_group', data=visp_and_m_features, fit_reg=False, palette=\"husl\")\n",
    "centers = kmeans.cluster_centers_\n",
    "plt.scatter(centers[:, 0], centers[:, 1], c='black', s=200, alpha=0.5)\n",
    "plt.title('K-Means Clustering for VISp and VISpm Neurons in Cell Types Dataset')\n",
    "plt.show()"
   ]
  },
  {
   "cell_type": "markdown",
   "metadata": {},
   "source": [
    "Heatmap for VISp neurons"
   ]
  },
  {
   "cell_type": "code",
   "execution_count": 93,
   "metadata": {},
   "outputs": [
    {
     "data": {
      "image/png": "[encoded data removed]",
      "text/plain": [
       "<Figure size 432x288 with 2 Axes>"
      ]
     },
     "metadata": {
      "needs_background": "light"
     },
     "output_type": "display_data"
    }
   ],
   "source": [
    "import seaborn as sns\n",
    "s=sns.heatmap(visp_data.corr(),cmap='coolwarm') \n",
    "s.set_yticklabels(s.get_yticklabels(),rotation=0,fontsize=8)\n",
    "s.set_xticklabels(s.get_xticklabels(),rotation=50,fontsize=8)\n",
    "plt.title('Heatmap for VISp Neurons in Cell Types Dataset')\n",
    "plt.show()"
   ]
  },
  {
   "cell_type": "markdown",
   "metadata": {},
   "source": [
    "Heatmap for VISpm neurons"
   ]
  },
  {
   "cell_type": "code",
   "execution_count": 95,
   "metadata": {},
   "outputs": [
    {
     "data": {
      "image/png": "[encoded data removed]",
      "text/plain": [
       "<Figure size 432x288 with 2 Axes>"
      ]
     },
     "metadata": {
      "needs_background": "light"
     },
     "output_type": "display_data"
    }
   ],
   "source": [
    "import seaborn as sns\n",
    "s=sns.heatmap(vispm_data.corr(),cmap='coolwarm') \n",
    "s.set_yticklabels(s.get_yticklabels(),rotation=30,fontsize=7)\n",
    "s.set_xticklabels(s.get_xticklabels(),rotation=30,fontsize=7)\n",
    "plt.title('Heatmap for VISpm Neurons in Cell Types Dataset')\n",
    "plt.show()"
   ]
  },
  {
   "cell_type": "markdown",
   "metadata": {},
   "source": [
    "Heatmap for VISp and VISpm"
   ]
  },
  {
   "cell_type": "code",
   "execution_count": 96,
   "metadata": {},
   "outputs": [
    {
     "data": {
      "image/png": "[encoded data removed]",
      "text/plain": [
       "<Figure size 432x288 with 2 Axes>"
      ]
     },
     "metadata": {
      "needs_background": "light"
     },
     "output_type": "display_data"
    }
   ],
   "source": [
    "import seaborn as sns\n",
    "s=sns.heatmap(visp_and_m_data.corr(),cmap='coolwarm') \n",
    "s.set_yticklabels(s.get_yticklabels(),rotation=30,fontsize=7)\n",
    "s.set_xticklabels(s.get_xticklabels(),rotation=30,fontsize=7)\n",
    "plt.title('PCA for VISp and VISpm Neurons in Cell Types Dataset')\n",
    "plt.show()"
   ]
  },
  {
   "cell_type": "markdown",
   "metadata": {},
   "source": [
    "Average Firing Rate for VISp and VISpm Units"
   ]
  },
  {
   "cell_type": "markdown",
   "metadata": {},
   "source": [
    "We use the Dataarray da_visp created before to plot the average firing rate for each unit in VISp as a function of time"
   ]
  },
  {
   "cell_type": "code",
   "execution_count": 75,
   "metadata": {},
   "outputs": [
    {
     "data": {
      "image/png": "[encoded data removed]",
      "text/plain": [
       "<Figure size 360x720 with 2 Axes>"
      ]
     },
     "metadata": {
      "needs_background": "light"
     },
     "output_type": "display_data"
    }
   ],
   "source": [
    "def plot_optotagging_response(da_visp):\n",
    "\n",
    "    plt.figure(figsize=(5,10))\n",
    "\n",
    "    plt.imshow(da_visp.mean(dim='trial_id').T / time_resolution, \n",
    "               extent=[np.min(bin_edges), np.max(bin_edges),\n",
    "                       0, len(units)],\n",
    "               aspect='auto', vmin=0, vmax=200)    \n",
    "\n",
    "    for bound in [0.0005, 0.0095]:\n",
    "        plt.plot([bound, bound],[0, len(units)], ':', color='white', linewidth=1.0)\n",
    "\n",
    "    plt.xlabel('Time (s)')\n",
    "    plt.ylabel('Unit #')\n",
    "    plt.title('Average Firing Rate in VISp')\n",
    "\n",
    "    cb = plt.colorbar(fraction=0.046, pad=0.04)\n",
    "    cb.set_label('Mean firing rate (Hz)')\n",
    "    \n",
    "plot_optotagging_response(da_visp)\n",
    "plt.show()"
   ]
  },
  {
   "cell_type": "markdown",
   "metadata": {},
   "source": [
    "We use the Dataarray da_vispm created before to plot the average firing rate for each unit in VISp as a function of time"
   ]
  },
  {
   "cell_type": "code",
   "execution_count": 39,
   "metadata": {},
   "outputs": [
    {
     "data": {
      "image/png": "[encoded data removed]",
      "text/plain": [
       "<Figure size 360x720 with 2 Axes>"
      ]
     },
     "metadata": {
      "needs_background": "light"
     },
     "output_type": "display_data"
    }
   ],
   "source": [
    "def plot_optotagging_response(da_vispm):\n",
    "\n",
    "    plt.figure(figsize=(5,10))\n",
    "\n",
    "    plt.imshow(da_vispm.mean(dim='trial_id').T / time_resolution, \n",
    "               extent=[np.min(bin_edges), np.max(bin_edges),\n",
    "                       0, len(units)],\n",
    "               aspect='auto', vmin=0, vmax=200)    \n",
    "\n",
    "    for bound in [0.0005, 0.0095]:\n",
    "        plt.plot([bound, bound],[0, len(units)], ':', color='white', linewidth=1.0)\n",
    "\n",
    "    plt.xlabel('Time (s)')\n",
    "    plt.ylabel('Unit #')\n",
    "\n",
    "    cb = plt.colorbar(fraction=0.046, pad=0.04)\n",
    "    cb.set_label('Mean firing rate (Hz)')\n",
    "    \n",
    "plot_optotagging_response(da_vispm)\n",
    "plt.title('Average Firing Rate in VISpm')\n",
    "plt.show()"
   ]
  },
  {
   "cell_type": "markdown",
   "metadata": {},
   "source": [
    "VISp and VISpm PV+ or PV- neurons"
   ]
  },
  {
   "cell_type": "markdown",
   "metadata": {},
   "source": [
    "We compare the baseline and evoked rates and see a subset of units in VISp with a light-evoked increase in firing rate"
   ]
  },
  {
   "cell_type": "code",
   "execution_count": 40,
   "metadata": {},
   "outputs": [
    {
     "data": {
      "image/png": "[encoded data removed]",
      "text/plain": [
       "<Figure size 360x360 with 1 Axes>"
      ]
     },
     "metadata": {
      "needs_background": "light"
     },
     "output_type": "display_data"
    }
   ],
   "source": [
    "plt.figure(figsize=(5,5))\n",
    "\n",
    "plt.scatter(baseline_rate_visp, evoked_rate_visp, s=3)\n",
    "\n",
    "axis_limit = 250\n",
    "plt.plot([0,axis_limit],[0,axis_limit], ':k')\n",
    "plt.plot([0,axis_limit],[0,axis_limit*2], ':r')\n",
    "plt.xlim([0,axis_limit])\n",
    "plt.ylim([0,axis_limit])\n",
    "\n",
    "plt.xlabel('Baseline rate (Hz)')\n",
    "_ = plt.ylabel('Evoked rate (Hz)')\n",
    "plt.title('VISp Units Baseline Rate vs Evoked Rate')\n",
    "plt.show()"
   ]
  },
  {
   "cell_type": "markdown",
   "metadata": {},
   "source": [
    "We compare the baseline and evoked rates and see a subset of units in VISpm with a light-evoked increase in firing rate"
   ]
  },
  {
   "cell_type": "code",
   "execution_count": 41,
   "metadata": {},
   "outputs": [
    {
     "data": {
      "text/plain": [
       "Text(0.5, 1.0, 'VISpm Baseline Rate vs Evoked Rate')"
      ]
     },
     "execution_count": 41,
     "metadata": {},
     "output_type": "execute_result"
    },
    {
     "data": {
      "image/png": "[encoded data removed]",
      "text/plain": [
       "<Figure size 360x360 with 1 Axes>"
      ]
     },
     "metadata": {
      "needs_background": "light"
     },
     "output_type": "display_data"
    }
   ],
   "source": [
    "#We compared the baseline and evoked rates and saw a subset of units in VISpm with a light-evoked increase in firing rate\n",
    "plt.figure(figsize=(5,5))\n",
    "\n",
    "plt.scatter(baseline_rate_vispm, evoked_rate_vispm, s=3)\n",
    "\n",
    "axis_limit = 250\n",
    "plt.plot([0,axis_limit],[0,axis_limit], ':k')\n",
    "plt.plot([0,axis_limit],[0,axis_limit*2], ':r')\n",
    "plt.xlim([0,axis_limit])\n",
    "plt.ylim([0,axis_limit])\n",
    "\n",
    "plt.xlabel('Baseline rate (Hz)')\n",
    "_ = plt.ylabel('Evoked rate (Hz)')\n",
    "\n",
    "plt.title('VISpm Baseline Rate vs Evoked Rate')"
   ]
  },
  {
   "cell_type": "markdown",
   "metadata": {},
   "source": [
    "Comparing Both Datasets, with data grouped by structure acronym, using a Violin plot"
   ]
  },
  {
   "cell_type": "code",
   "execution_count": 97,
   "metadata": {},
   "outputs": [
    {
     "name": "stderr",
     "output_type": "stream",
     "text": [
      "/opt/conda/lib/python3.6/site-packages/scipy/stats/stats.py:1713: FutureWarning: Using a non-tuple sequence for multidimensional indexing is deprecated; use `arr[tuple(seq)]` instead of `arr[seq]`. In the future this will be interpreted as an array index, `arr[np.array(seq)]`, which will result either in an error or a different result.\n",
      "  return np.add.reduce(sorted[indexer] * weights, axis=axis) / sumval\n"
     ]
    },
    {
     "data": {
      "image/png": "[encoded data removed]",
      "text/plain": [
       "<Figure size 360x360 with 1 Axes>"
      ]
     },
     "metadata": {
      "needs_background": "light"
     },
     "output_type": "display_data"
    }
   ],
   "source": [
    "ax = sns.catplot(x=\"ecephys_structure_acronym\", y=\"firing_rate\",\n",
    "            kind=\"violin\", data=neuropix_and_celltypes, palette=\"husl\");\n",
    "ax.set(xlabel='Ephys Structure Acronym', ylabel='Firing Rate (Hz)', title = 'VISp vs VISpm Firing Rate from Both Datasets')\n",
    "ax.set_xticklabels(['VISpm','VISp'])\n",
    "plt.show()"
   ]
  },
  {
   "cell_type": "markdown",
   "metadata": {},
   "source": [
    "Comparing the two datasets against each other"
   ]
  },
  {
   "cell_type": "code",
   "execution_count": 98,
   "metadata": {},
   "outputs": [
    {
     "data": {
      "image/png": "[encoded data removed]",
      "text/plain": [
       "<Figure size 432x288 with 1 Axes>"
      ]
     },
     "metadata": {
      "needs_background": "light"
     },
     "output_type": "display_data"
    }
   ],
   "source": [
    "ax = sns.violinplot(x=\"ecephys_structure_acronym\", y=\"firing_rate\", hue=\"dataset\",\n",
    "                    data=specific_both, palette=\"husl\")\n",
    "ax.set(xlabel='Ephys Structure Acronym', ylabel='Firing Rate (Hz)', title = 'VISp vs VISpm Firing Rate')\n",
    "ax.set_xticklabels(['VISp','VISpm'])\n",
    "plt.show()"
   ]
  },
  {
   "cell_type": "markdown",
   "metadata": {},
   "source": [
    "## Conclusion & Discussion"
   ]
  },
  {
   "cell_type": "markdown",
   "metadata": {},
   "source": [
    "*Fill in your discussion information here*"
   ]
  },
  {
   "cell_type": "code",
   "execution_count": null,
   "metadata": {},
   "outputs": [],
   "source": []
  },
  {
   "cell_type": "code",
   "execution_count": null,
   "metadata": {},
   "outputs": [],
   "source": []
  }
 ],
 "metadata": {
  "kernelspec": {
   "display_name": "Python 3",
   "language": "python",
   "name": "python3"
  },
  "language_info": {
   "codemirror_mode": {
    "name": "ipython",
    "version": 3
   },
   "file_extension": ".py",
   "mimetype": "text/x-python",
   "name": "python",
   "nbconvert_exporter": "python",
   "pygments_lexer": "ipython3",
   "version": "3.6.7"
  }
 },
 "nbformat": 4,
 "nbformat_minor": 2
}
