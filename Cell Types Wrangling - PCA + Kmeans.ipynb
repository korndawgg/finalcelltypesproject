{
 "cells": [
  {
   "cell_type": "markdown",
   "metadata": {},
   "source": [
    "**Wrangling the Allen Brain Cell Types Database: Importing it into the notebook**"
   ]
  },
  {
   "cell_type": "code",
   "execution_count": 48,
   "metadata": {},
   "outputs": [
    {
     "data": {
      "text/html": [
       "<div>\n",
       "<style scoped>\n",
       "    .dataframe tbody tr th:only-of-type {\n",
       "        vertical-align: middle;\n",
       "    }\n",
       "\n",
       "    .dataframe tbody tr th {\n",
       "        vertical-align: top;\n",
       "    }\n",
       "\n",
       "    .dataframe thead th {\n",
       "        text-align: right;\n",
       "    }\n",
       "</style>\n",
       "<table border=\"1\" class=\"dataframe\">\n",
       "  <thead>\n",
       "    <tr style=\"text-align: right;\">\n",
       "      <th></th>\n",
       "      <th>line_name</th>\n",
       "      <th>specimen__id</th>\n",
       "      <th>specimen__name</th>\n",
       "      <th>specimen__hemisphere</th>\n",
       "      <th>structure__id</th>\n",
       "      <th>structure__name</th>\n",
       "      <th>structure__acronym</th>\n",
       "      <th>structure_parent__id</th>\n",
       "      <th>structure_parent__acronym</th>\n",
       "      <th>structure__layer</th>\n",
       "      <th>...</th>\n",
       "      <th>ephys_thumb_path</th>\n",
       "      <th>ephys_inst_thresh_thumb_path</th>\n",
       "      <th>donor__age</th>\n",
       "      <th>donor__sex</th>\n",
       "      <th>donor__disease_state</th>\n",
       "      <th>donor__race</th>\n",
       "      <th>donor__years_of_seizure_history</th>\n",
       "      <th>donor__species</th>\n",
       "      <th>donor__id</th>\n",
       "      <th>donor__name</th>\n",
       "    </tr>\n",
       "  </thead>\n",
       "  <tbody>\n",
       "    <tr>\n",
       "      <th>0</th>\n",
       "      <td>NaN</td>\n",
       "      <td>525011903</td>\n",
       "      <td>H16.03.003.01.14.02</td>\n",
       "      <td>right</td>\n",
       "      <td>12113</td>\n",
       "      <td>\"frontal lobe\"</td>\n",
       "      <td>FroL</td>\n",
       "      <td>12113</td>\n",
       "      <td>FroL</td>\n",
       "      <td>3</td>\n",
       "      <td>...</td>\n",
       "      <td>/api/v2/well_known_file_download/529903140</td>\n",
       "      <td>/api/v2/well_known_file_download/529903142</td>\n",
       "      <td>25 yrs</td>\n",
       "      <td>Male</td>\n",
       "      <td>epilepsy</td>\n",
       "      <td>White or Caucasian</td>\n",
       "      <td>9.0</td>\n",
       "      <td>Homo Sapiens</td>\n",
       "      <td>524848408</td>\n",
       "      <td>H16.03.003</td>\n",
       "    </tr>\n",
       "    <tr>\n",
       "      <th>1</th>\n",
       "      <td>Oxtr-T2A-Cre</td>\n",
       "      <td>565871768</td>\n",
       "      <td>Oxtr-2A-Cre;Ai14-293837.03.01.02</td>\n",
       "      <td>left</td>\n",
       "      <td>778</td>\n",
       "      <td>\"Primary visual area, layer 5\"</td>\n",
       "      <td>VISp5</td>\n",
       "      <td>385</td>\n",
       "      <td>VISp</td>\n",
       "      <td>5</td>\n",
       "      <td>...</td>\n",
       "      <td>/api/v2/well_known_file_download/566738214</td>\n",
       "      <td>/api/v2/well_known_file_download/566738219</td>\n",
       "      <td>NaN</td>\n",
       "      <td>NaN</td>\n",
       "      <td>NaN</td>\n",
       "      <td>NaN</td>\n",
       "      <td>NaN</td>\n",
       "      <td>Mus musculus</td>\n",
       "      <td>563340157</td>\n",
       "      <td>Oxtr-T2A-Cre;Ai14-293837</td>\n",
       "    </tr>\n",
       "    <tr>\n",
       "      <th>2</th>\n",
       "      <td>Pvalb-IRES-Cre</td>\n",
       "      <td>469801138</td>\n",
       "      <td>Pvalb-IRES-Cre;Ai14-170927.05.02.01</td>\n",
       "      <td>right</td>\n",
       "      <td>721</td>\n",
       "      <td>\"Primary visual area, layer 4\"</td>\n",
       "      <td>VISp4</td>\n",
       "      <td>385</td>\n",
       "      <td>VISp</td>\n",
       "      <td>4</td>\n",
       "      <td>...</td>\n",
       "      <td>/api/v2/well_known_file_download/487618917</td>\n",
       "      <td>/api/v2/well_known_file_download/491380580</td>\n",
       "      <td>NaN</td>\n",
       "      <td>NaN</td>\n",
       "      <td>NaN</td>\n",
       "      <td>NaN</td>\n",
       "      <td>NaN</td>\n",
       "      <td>Mus musculus</td>\n",
       "      <td>319194354</td>\n",
       "      <td>Pvalb-IRES-Cre;Ai14(IVSCC)-170927</td>\n",
       "    </tr>\n",
       "    <tr>\n",
       "      <th>3</th>\n",
       "      <td>NaN</td>\n",
       "      <td>528642047</td>\n",
       "      <td>H16.06.009.01.02.06.05</td>\n",
       "      <td>left</td>\n",
       "      <td>12141</td>\n",
       "      <td>\"middle temporal gyrus\"</td>\n",
       "      <td>MTG</td>\n",
       "      <td>12141</td>\n",
       "      <td>MTG</td>\n",
       "      <td>5</td>\n",
       "      <td>...</td>\n",
       "      <td>/api/v2/well_known_file_download/660970973</td>\n",
       "      <td>/api/v2/well_known_file_download/660970975</td>\n",
       "      <td>48 yrs</td>\n",
       "      <td>Female</td>\n",
       "      <td>epilepsy</td>\n",
       "      <td>unknown</td>\n",
       "      <td>33.0</td>\n",
       "      <td>Homo Sapiens</td>\n",
       "      <td>528574320</td>\n",
       "      <td>H16.06.009</td>\n",
       "    </tr>\n",
       "    <tr>\n",
       "      <th>4</th>\n",
       "      <td>Slc32a1-T2A-FlpO|Vipr2-IRES2-Cre</td>\n",
       "      <td>605889373</td>\n",
       "      <td>Vipr2-IRES2-Cre;Slc32a1-T2A-FlpO;Ai65-337419.0...</td>\n",
       "      <td>right</td>\n",
       "      <td>821</td>\n",
       "      <td>\"Primary visual area, layer 2/3\"</td>\n",
       "      <td>VISp2/3</td>\n",
       "      <td>385</td>\n",
       "      <td>VISp</td>\n",
       "      <td>2/3</td>\n",
       "      <td>...</td>\n",
       "      <td>/api/v2/well_known_file_download/657612184</td>\n",
       "      <td>/api/v2/well_known_file_download/657612186</td>\n",
       "      <td>NaN</td>\n",
       "      <td>NaN</td>\n",
       "      <td>NaN</td>\n",
       "      <td>NaN</td>\n",
       "      <td>NaN</td>\n",
       "      <td>Mus musculus</td>\n",
       "      <td>605622695</td>\n",
       "      <td>Vipr2-IRES2-Cre;Slc32a1-T2A-FlpO;Ai65-337419</td>\n",
       "    </tr>\n",
       "    <tr>\n",
       "      <th>...</th>\n",
       "      <td>...</td>\n",
       "      <td>...</td>\n",
       "      <td>...</td>\n",
       "      <td>...</td>\n",
       "      <td>...</td>\n",
       "      <td>...</td>\n",
       "      <td>...</td>\n",
       "      <td>...</td>\n",
       "      <td>...</td>\n",
       "      <td>...</td>\n",
       "      <td>...</td>\n",
       "      <td>...</td>\n",
       "      <td>...</td>\n",
       "      <td>...</td>\n",
       "      <td>...</td>\n",
       "      <td>...</td>\n",
       "      <td>...</td>\n",
       "      <td>...</td>\n",
       "      <td>...</td>\n",
       "      <td>...</td>\n",
       "      <td>...</td>\n",
       "    </tr>\n",
       "    <tr>\n",
       "      <th>2326</th>\n",
       "      <td>Ctgf-T2A-dgCre</td>\n",
       "      <td>512322162</td>\n",
       "      <td>Ctgf-2A-dgCre;Ai14(IVSCC)-240529.03.02.01</td>\n",
       "      <td>right</td>\n",
       "      <td>305</td>\n",
       "      <td>\"Primary visual area, layer 6b\"</td>\n",
       "      <td>VISp6b</td>\n",
       "      <td>385</td>\n",
       "      <td>VISp</td>\n",
       "      <td>6b</td>\n",
       "      <td>...</td>\n",
       "      <td>/api/v2/well_known_file_download/513878612</td>\n",
       "      <td>/api/v2/well_known_file_download/513878614</td>\n",
       "      <td>NaN</td>\n",
       "      <td>NaN</td>\n",
       "      <td>NaN</td>\n",
       "      <td>NaN</td>\n",
       "      <td>NaN</td>\n",
       "      <td>Mus musculus</td>\n",
       "      <td>511856495</td>\n",
       "      <td>Ctgf-2A-dgCre;Ai14(IVSCC)-240529</td>\n",
       "    </tr>\n",
       "    <tr>\n",
       "      <th>2327</th>\n",
       "      <td>Rorb-IRES2-Cre</td>\n",
       "      <td>488473535</td>\n",
       "      <td>Rorb-IRES2-Cre-D;Ai14-212867.03.01.01</td>\n",
       "      <td>left</td>\n",
       "      <td>821</td>\n",
       "      <td>\"Primary visual area, layer 2/3\"</td>\n",
       "      <td>VISp2/3</td>\n",
       "      <td>385</td>\n",
       "      <td>VISp</td>\n",
       "      <td>2/3</td>\n",
       "      <td>...</td>\n",
       "      <td>/api/v2/well_known_file_download/488474970</td>\n",
       "      <td>/api/v2/well_known_file_download/491376689</td>\n",
       "      <td>NaN</td>\n",
       "      <td>NaN</td>\n",
       "      <td>NaN</td>\n",
       "      <td>NaN</td>\n",
       "      <td>NaN</td>\n",
       "      <td>Mus musculus</td>\n",
       "      <td>487607572</td>\n",
       "      <td>Rorb-IRES2-Cre-D;Ai14-212867</td>\n",
       "    </tr>\n",
       "    <tr>\n",
       "      <th>2328</th>\n",
       "      <td>Rorb-IRES2-Cre</td>\n",
       "      <td>467003163</td>\n",
       "      <td>Rorb-IRES2-Cre-D;Ai14-172652.02.02.01</td>\n",
       "      <td>right</td>\n",
       "      <td>721</td>\n",
       "      <td>\"Primary visual area, layer 4\"</td>\n",
       "      <td>VISp4</td>\n",
       "      <td>385</td>\n",
       "      <td>VISp</td>\n",
       "      <td>4</td>\n",
       "      <td>...</td>\n",
       "      <td>/api/v2/well_known_file_download/487623212</td>\n",
       "      <td>/api/v2/well_known_file_download/491378303</td>\n",
       "      <td>NaN</td>\n",
       "      <td>NaN</td>\n",
       "      <td>NaN</td>\n",
       "      <td>NaN</td>\n",
       "      <td>NaN</td>\n",
       "      <td>Mus musculus</td>\n",
       "      <td>322489498</td>\n",
       "      <td>Rorb-IRES2-Cre-D;Ai14(IVSCC)-172652</td>\n",
       "    </tr>\n",
       "    <tr>\n",
       "      <th>2329</th>\n",
       "      <td>Pvalb-IRES-Cre</td>\n",
       "      <td>572609946</td>\n",
       "      <td>Pvalb-IRES-Cre;Ai14-301945.04.02.01</td>\n",
       "      <td>right</td>\n",
       "      <td>721</td>\n",
       "      <td>\"Primary visual area, layer 4\"</td>\n",
       "      <td>VISp4</td>\n",
       "      <td>385</td>\n",
       "      <td>VISp</td>\n",
       "      <td>4</td>\n",
       "      <td>...</td>\n",
       "      <td>/api/v2/well_known_file_download/575795570</td>\n",
       "      <td>/api/v2/well_known_file_download/575795572</td>\n",
       "      <td>NaN</td>\n",
       "      <td>NaN</td>\n",
       "      <td>NaN</td>\n",
       "      <td>NaN</td>\n",
       "      <td>NaN</td>\n",
       "      <td>Mus musculus</td>\n",
       "      <td>570930952</td>\n",
       "      <td>Pvalb-IRES-Cre;Ai14-301945</td>\n",
       "    </tr>\n",
       "    <tr>\n",
       "      <th>2330</th>\n",
       "      <td>Sst-IRES-Cre</td>\n",
       "      <td>464212183</td>\n",
       "      <td>Sst-IRES-Cre;Ai14-165865.05.02.01</td>\n",
       "      <td>left</td>\n",
       "      <td>778</td>\n",
       "      <td>\"Primary visual area, layer 5\"</td>\n",
       "      <td>VISp5</td>\n",
       "      <td>385</td>\n",
       "      <td>VISp</td>\n",
       "      <td>5</td>\n",
       "      <td>...</td>\n",
       "      <td>/api/v2/well_known_file_download/487630084</td>\n",
       "      <td>/api/v2/well_known_file_download/491377895</td>\n",
       "      <td>NaN</td>\n",
       "      <td>NaN</td>\n",
       "      <td>NaN</td>\n",
       "      <td>NaN</td>\n",
       "      <td>NaN</td>\n",
       "      <td>Mus musculus</td>\n",
       "      <td>312883165</td>\n",
       "      <td>Sst-IRES-Cre;Ai14(IVSCC)-165865</td>\n",
       "    </tr>\n",
       "  </tbody>\n",
       "</table>\n",
       "<p>2331 rows × 54 columns</p>\n",
       "</div>"
      ],
      "text/plain": [
       "                             line_name  specimen__id  \\\n",
       "0                                  NaN     525011903   \n",
       "1                         Oxtr-T2A-Cre     565871768   \n",
       "2                       Pvalb-IRES-Cre     469801138   \n",
       "3                                  NaN     528642047   \n",
       "4     Slc32a1-T2A-FlpO|Vipr2-IRES2-Cre     605889373   \n",
       "...                                ...           ...   \n",
       "2326                    Ctgf-T2A-dgCre     512322162   \n",
       "2327                    Rorb-IRES2-Cre     488473535   \n",
       "2328                    Rorb-IRES2-Cre     467003163   \n",
       "2329                    Pvalb-IRES-Cre     572609946   \n",
       "2330                      Sst-IRES-Cre     464212183   \n",
       "\n",
       "                                         specimen__name specimen__hemisphere  \\\n",
       "0                                   H16.03.003.01.14.02                right   \n",
       "1                      Oxtr-2A-Cre;Ai14-293837.03.01.02                 left   \n",
       "2                   Pvalb-IRES-Cre;Ai14-170927.05.02.01                right   \n",
       "3                                H16.06.009.01.02.06.05                 left   \n",
       "4     Vipr2-IRES2-Cre;Slc32a1-T2A-FlpO;Ai65-337419.0...                right   \n",
       "...                                                 ...                  ...   \n",
       "2326          Ctgf-2A-dgCre;Ai14(IVSCC)-240529.03.02.01                right   \n",
       "2327              Rorb-IRES2-Cre-D;Ai14-212867.03.01.01                 left   \n",
       "2328              Rorb-IRES2-Cre-D;Ai14-172652.02.02.01                right   \n",
       "2329                Pvalb-IRES-Cre;Ai14-301945.04.02.01                right   \n",
       "2330                  Sst-IRES-Cre;Ai14-165865.05.02.01                 left   \n",
       "\n",
       "      structure__id                   structure__name structure__acronym  \\\n",
       "0             12113                    \"frontal lobe\"               FroL   \n",
       "1               778    \"Primary visual area, layer 5\"              VISp5   \n",
       "2               721    \"Primary visual area, layer 4\"              VISp4   \n",
       "3             12141           \"middle temporal gyrus\"                MTG   \n",
       "4               821  \"Primary visual area, layer 2/3\"            VISp2/3   \n",
       "...             ...                               ...                ...   \n",
       "2326            305   \"Primary visual area, layer 6b\"             VISp6b   \n",
       "2327            821  \"Primary visual area, layer 2/3\"            VISp2/3   \n",
       "2328            721    \"Primary visual area, layer 4\"              VISp4   \n",
       "2329            721    \"Primary visual area, layer 4\"              VISp4   \n",
       "2330            778    \"Primary visual area, layer 5\"              VISp5   \n",
       "\n",
       "      structure_parent__id structure_parent__acronym structure__layer  ...  \\\n",
       "0                    12113                      FroL                3  ...   \n",
       "1                      385                      VISp                5  ...   \n",
       "2                      385                      VISp                4  ...   \n",
       "3                    12141                       MTG                5  ...   \n",
       "4                      385                      VISp              2/3  ...   \n",
       "...                    ...                       ...              ...  ...   \n",
       "2326                   385                      VISp               6b  ...   \n",
       "2327                   385                      VISp              2/3  ...   \n",
       "2328                   385                      VISp                4  ...   \n",
       "2329                   385                      VISp                4  ...   \n",
       "2330                   385                      VISp                5  ...   \n",
       "\n",
       "                                ephys_thumb_path  \\\n",
       "0     /api/v2/well_known_file_download/529903140   \n",
       "1     /api/v2/well_known_file_download/566738214   \n",
       "2     /api/v2/well_known_file_download/487618917   \n",
       "3     /api/v2/well_known_file_download/660970973   \n",
       "4     /api/v2/well_known_file_download/657612184   \n",
       "...                                          ...   \n",
       "2326  /api/v2/well_known_file_download/513878612   \n",
       "2327  /api/v2/well_known_file_download/488474970   \n",
       "2328  /api/v2/well_known_file_download/487623212   \n",
       "2329  /api/v2/well_known_file_download/575795570   \n",
       "2330  /api/v2/well_known_file_download/487630084   \n",
       "\n",
       "                    ephys_inst_thresh_thumb_path  donor__age  donor__sex  \\\n",
       "0     /api/v2/well_known_file_download/529903142      25 yrs        Male   \n",
       "1     /api/v2/well_known_file_download/566738219         NaN         NaN   \n",
       "2     /api/v2/well_known_file_download/491380580         NaN         NaN   \n",
       "3     /api/v2/well_known_file_download/660970975      48 yrs      Female   \n",
       "4     /api/v2/well_known_file_download/657612186         NaN         NaN   \n",
       "...                                          ...         ...         ...   \n",
       "2326  /api/v2/well_known_file_download/513878614         NaN         NaN   \n",
       "2327  /api/v2/well_known_file_download/491376689         NaN         NaN   \n",
       "2328  /api/v2/well_known_file_download/491378303         NaN         NaN   \n",
       "2329  /api/v2/well_known_file_download/575795572         NaN         NaN   \n",
       "2330  /api/v2/well_known_file_download/491377895         NaN         NaN   \n",
       "\n",
       "      donor__disease_state         donor__race  \\\n",
       "0                 epilepsy  White or Caucasian   \n",
       "1                      NaN                 NaN   \n",
       "2                      NaN                 NaN   \n",
       "3                 epilepsy             unknown   \n",
       "4                      NaN                 NaN   \n",
       "...                    ...                 ...   \n",
       "2326                   NaN                 NaN   \n",
       "2327                   NaN                 NaN   \n",
       "2328                   NaN                 NaN   \n",
       "2329                   NaN                 NaN   \n",
       "2330                   NaN                 NaN   \n",
       "\n",
       "      donor__years_of_seizure_history  donor__species  donor__id  \\\n",
       "0                                 9.0    Homo Sapiens  524848408   \n",
       "1                                 NaN    Mus musculus  563340157   \n",
       "2                                 NaN    Mus musculus  319194354   \n",
       "3                                33.0    Homo Sapiens  528574320   \n",
       "4                                 NaN    Mus musculus  605622695   \n",
       "...                               ...             ...        ...   \n",
       "2326                              NaN    Mus musculus  511856495   \n",
       "2327                              NaN    Mus musculus  487607572   \n",
       "2328                              NaN    Mus musculus  322489498   \n",
       "2329                              NaN    Mus musculus  570930952   \n",
       "2330                              NaN    Mus musculus  312883165   \n",
       "\n",
       "                                       donor__name  \n",
       "0                                       H16.03.003  \n",
       "1                         Oxtr-T2A-Cre;Ai14-293837  \n",
       "2                Pvalb-IRES-Cre;Ai14(IVSCC)-170927  \n",
       "3                                       H16.06.009  \n",
       "4     Vipr2-IRES2-Cre;Slc32a1-T2A-FlpO;Ai65-337419  \n",
       "...                                            ...  \n",
       "2326              Ctgf-2A-dgCre;Ai14(IVSCC)-240529  \n",
       "2327                  Rorb-IRES2-Cre-D;Ai14-212867  \n",
       "2328           Rorb-IRES2-Cre-D;Ai14(IVSCC)-172652  \n",
       "2329                    Pvalb-IRES-Cre;Ai14-301945  \n",
       "2330               Sst-IRES-Cre;Ai14(IVSCC)-165865  \n",
       "\n",
       "[2331 rows x 54 columns]"
      ]
     },
     "execution_count": 48,
     "metadata": {},
     "output_type": "execute_result"
    }
   ],
   "source": [
    "import pandas as pd\n",
    "import numpy as np\n",
    "import matplotlib as mp\n",
    "import matplotlib.pyplot as plt\n",
    "df = pd.read_csv('cell_types_specimen_details.csv')\n",
    "df"
   ]
  },
  {
   "cell_type": "markdown",
   "metadata": {},
   "source": [
    "**Finding the columns in the dataset we just pulled.**"
   ]
  },
  {
   "cell_type": "code",
   "execution_count": 49,
   "metadata": {},
   "outputs": [
    {
     "data": {
      "text/plain": [
       "Index(['line_name', 'specimen__id', 'specimen__name', 'specimen__hemisphere',\n",
       "       'structure__id', 'structure__name', 'structure__acronym',\n",
       "       'structure_parent__id', 'structure_parent__acronym', 'structure__layer',\n",
       "       'nr__max_euclidean_distance', 'nr__number_stems',\n",
       "       'nr__number_bifurcations', 'nr__average_contraction',\n",
       "       'nr__average_parent_daughter_ratio', 'nr__reconstruction_type',\n",
       "       'nrwkf__id', 'erwkf__id', 'ef__fast_trough_v_long_square',\n",
       "       'ef__upstroke_downstroke_ratio_long_square', 'ef__adaptation',\n",
       "       'ef__f_i_curve_slope', 'ef__threshold_i_long_square', 'ef__tau',\n",
       "       'ef__avg_isi', 'ef__avg_firing_rate', 'ef__ri', 'ef__peak_t_ramp',\n",
       "       'ef__vrest', 'si__height', 'si__width', 'si__path', 'csl__x', 'csl__y',\n",
       "       'csl__z', 'csl__normalized_depth', 'cell_reporter_status', 'm__glif',\n",
       "       'm__biophys', 'm__biophys_perisomatic', 'm__biophys_all_active',\n",
       "       'tag__apical', 'tag__dendrite_type', 'morph_thumb_path',\n",
       "       'ephys_thumb_path', 'ephys_inst_thresh_thumb_path', 'donor__age',\n",
       "       'donor__sex', 'donor__disease_state', 'donor__race',\n",
       "       'donor__years_of_seizure_history', 'donor__species', 'donor__id',\n",
       "       'donor__name'],\n",
       "      dtype='object')"
      ]
     },
     "execution_count": 49,
     "metadata": {},
     "output_type": "execute_result"
    }
   ],
   "source": [
    "df.columns"
   ]
  },
  {
   "cell_type": "markdown",
   "metadata": {},
   "source": [
    "**Performing PCA on a subset of the original dataset: specifically only data from VISp neurons.**"
   ]
  },
  {
   "cell_type": "code",
   "execution_count": 50,
   "metadata": {},
   "outputs": [
    {
     "name": "stderr",
     "output_type": "stream",
     "text": [
      "/opt/conda/lib/python3.6/site-packages/ipykernel_launcher.py:10: SettingWithCopyWarning: \n",
      "A value is trying to be set on a copy of a slice from a DataFrame.\n",
      "Try using .loc[row_indexer,col_indexer] = value instead\n",
      "\n",
      "See the caveats in the documentation: http://pandas.pydata.org/pandas-docs/stable/user_guide/indexing.html#returning-a-view-versus-a-copy\n",
      "  # Remove the CWD from sys.path while we load stuff.\n",
      "/opt/conda/lib/python3.6/site-packages/ipykernel_launcher.py:11: SettingWithCopyWarning: \n",
      "A value is trying to be set on a copy of a slice from a DataFrame.\n",
      "Try using .loc[row_indexer,col_indexer] = value instead\n",
      "\n",
      "See the caveats in the documentation: http://pandas.pydata.org/pandas-docs/stable/user_guide/indexing.html#returning-a-view-versus-a-copy\n",
      "  # This is added back by InteractiveShellApp.init_path()\n"
     ]
    },
    {
     "data": {
      "image/png": "[encoded data removed]",
      "text/plain": [
       "<Figure size 505.125x360 with 1 Axes>"
      ]
     },
     "metadata": {
      "needs_background": "light"
     },
     "output_type": "display_data"
    }
   ],
   "source": [
    "#using a dataframe with ONLY visP data\n",
    "df_VISp = df[df['structure_parent__acronym'].str.contains('VISp')].reset_index(drop=True).fillna(0)\n",
    "visp_features = df_VISp[['ef__avg_firing_rate','ef__peak_t_ramp','ef__tau', 'ef__adaptation', 'structure_parent__acronym']]\n",
    "x_data = visp_features.drop('structure_parent__acronym',axis=1)\n",
    "x_data = (x_data - x_data.mean())/x_data.std()\n",
    "from sklearn.decomposition import PCA\n",
    "import seaborn as sns\n",
    "pca = PCA(n_components = 2)           \n",
    "X_2D = pca.fit_transform(x_data)  \n",
    "visp_features['PCA1'] = X_2D[:, 0]\n",
    "visp_features['PCA2'] = X_2D[:, 1]\n",
    "sns.lmplot(\"PCA1\", \"PCA2\",hue='structure_parent__acronym', data=visp_features, fit_reg=False)\n",
    "plt.show()"
   ]
  },
  {
   "cell_type": "markdown",
   "metadata": {},
   "source": [
    "**We find that most of the clusters are centralized around a similar area - the clusters seem to overlap. We will perform a KMeans of 4 clusters, since there are 4 VISp regions, to determine whether the 4 clusters observed in the PCA plot are similar to the 4 clusters from the KMeans model.**"
   ]
  },
  {
   "cell_type": "code",
   "execution_count": 51,
   "metadata": {},
   "outputs": [
    {
     "name": "stderr",
     "output_type": "stream",
     "text": [
      "/opt/conda/lib/python3.6/site-packages/ipykernel_launcher.py:7: SettingWithCopyWarning: \n",
      "A value is trying to be set on a copy of a slice from a DataFrame.\n",
      "Try using .loc[row_indexer,col_indexer] = value instead\n",
      "\n",
      "See the caveats in the documentation: http://pandas.pydata.org/pandas-docs/stable/user_guide/indexing.html#returning-a-view-versus-a-copy\n",
      "  import sys\n"
     ]
    },
    {
     "data": {
      "image/png": "[encoded data removed]",
      "text/plain": [
       "<Figure size 441.375x360 with 1 Axes>"
      ]
     },
     "metadata": {
      "needs_background": "light"
     },
     "output_type": "display_data"
    }
   ],
   "source": [
    "from sklearn.cluster import KMeans #Import the KMeans model\n",
    "\n",
    "kmeans = KMeans(n_clusters=4) # Set up a kmeans model with 3 clusters\n",
    "\n",
    "kmeans.fit(X_2D) # Fit our two dimensional data\n",
    "y_kmeans = kmeans.predict(X_2D) \n",
    "visp_features['kmeans_group'] = y_kmeans\n",
    "\n",
    "sns.lmplot(\"PCA1\", \"PCA2\", hue='kmeans_group', data=visp_features, fit_reg=False)\n",
    "centers = kmeans.cluster_centers_\n",
    "plt.scatter(centers[:, 0], centers[:, 1], c='black', s=200, alpha=0.5)\n",
    "plt.show()"
   ]
  },
  {
   "cell_type": "markdown",
   "metadata": {},
   "source": [
    "**The KMeans model with 4 clusters is vastly different from the 4 clusters we find in our PCA model. This makes sense, because our PCA model shows 4 clusters centered around the same region rather than being equally distributed among the data points.**"
   ]
  },
  {
   "cell_type": "markdown",
   "metadata": {},
   "source": [
    "**Again, we perform a PCA for a subset of the original dataset that only contains data from VISl neurons.**"
   ]
  },
  {
   "cell_type": "code",
   "execution_count": 53,
   "metadata": {},
   "outputs": [
    {
     "name": "stderr",
     "output_type": "stream",
     "text": [
      "/opt/conda/lib/python3.6/site-packages/ipykernel_launcher.py:10: SettingWithCopyWarning: \n",
      "A value is trying to be set on a copy of a slice from a DataFrame.\n",
      "Try using .loc[row_indexer,col_indexer] = value instead\n",
      "\n",
      "See the caveats in the documentation: http://pandas.pydata.org/pandas-docs/stable/user_guide/indexing.html#returning-a-view-versus-a-copy\n",
      "  # Remove the CWD from sys.path while we load stuff.\n",
      "/opt/conda/lib/python3.6/site-packages/ipykernel_launcher.py:11: SettingWithCopyWarning: \n",
      "A value is trying to be set on a copy of a slice from a DataFrame.\n",
      "Try using .loc[row_indexer,col_indexer] = value instead\n",
      "\n",
      "See the caveats in the documentation: http://pandas.pydata.org/pandas-docs/stable/user_guide/indexing.html#returning-a-view-versus-a-copy\n",
      "  # This is added back by InteractiveShellApp.init_path()\n"
     ]
    },
    {
     "data": {
      "image/png": "[encoded data removed]",
      "text/plain": [
       "<Figure size 505.125x360 with 1 Axes>"
      ]
     },
     "metadata": {
      "needs_background": "light"
     },
     "output_type": "display_data"
    }
   ],
   "source": [
    "#using a dataframe with ONLY visL data\n",
    "df_VISl = df[df['structure_parent__acronym'].str.contains('VISl')].reset_index(drop=True).fillna(0)\n",
    "visl_features = df_VISl[['ef__avg_firing_rate','ef__peak_t_ramp','ef__tau', 'ef__adaptation', 'structure_parent__acronym']]\n",
    "x_data = visl_features.drop('structure_parent__acronym',axis=1)\n",
    "x_data = (x_data - x_data.mean())/x_data.std()\n",
    "from sklearn.decomposition import PCA\n",
    "import seaborn as sns\n",
    "pca = PCA(n_components = 2)           \n",
    "X_2D = pca.fit_transform(x_data)  \n",
    "visl_features['PCA1'] = X_2D[:, 0]\n",
    "visl_features['PCA2'] = X_2D[:, 1]\n",
    "sns.lmplot(\"PCA1\", \"PCA2\",hue='structure_parent__acronym', data=visl_features, fit_reg=False)\n",
    "plt.show()"
   ]
  },
  {
   "cell_type": "markdown",
   "metadata": {},
   "source": [
    "**Here, we find little to no clustering. We will perform a KMeans of 2 clusters, since there are 2 VISl regions, to confirm that the partition of data from the 2 regions of VISl observed in the PCA plot vastly differs from a KMeans model prediction of 2 clusters from the data.**"
   ]
  },
  {
   "cell_type": "code",
   "execution_count": 54,
   "metadata": {},
   "outputs": [
    {
     "name": "stderr",
     "output_type": "stream",
     "text": [
      "/opt/conda/lib/python3.6/site-packages/ipykernel_launcher.py:7: SettingWithCopyWarning: \n",
      "A value is trying to be set on a copy of a slice from a DataFrame.\n",
      "Try using .loc[row_indexer,col_indexer] = value instead\n",
      "\n",
      "See the caveats in the documentation: http://pandas.pydata.org/pandas-docs/stable/user_guide/indexing.html#returning-a-view-versus-a-copy\n",
      "  import sys\n"
     ]
    },
    {
     "data": {
      "image/png": "[encoded data removed]",
      "text/plain": [
       "<Figure size 441.375x360 with 1 Axes>"
      ]
     },
     "metadata": {
      "needs_background": "light"
     },
     "output_type": "display_data"
    }
   ],
   "source": [
    "from sklearn.cluster import KMeans #Import the KMeans model\n",
    "\n",
    "kmeans = KMeans(n_clusters=2) # Set up a kmeans model with 3 clusters\n",
    "\n",
    "kmeans.fit(X_2D) # Fit our two dimensional data\n",
    "y_kmeans = kmeans.predict(X_2D) \n",
    "visl_features['kmeans_group'] = y_kmeans\n",
    "\n",
    "sns.lmplot(\"PCA1\", \"PCA2\", hue='kmeans_group', data=visl_features, fit_reg=False)\n",
    "centers = kmeans.cluster_centers_\n",
    "plt.scatter(centers[:, 0], centers[:, 1], c='black', s=200, alpha=0.5)\n",
    "plt.show()"
   ]
  },
  {
   "cell_type": "markdown",
   "metadata": {},
   "source": [
    "probably unnecessary graphs: covariance matrices and eigenvectors"
   ]
  },
  {
   "cell_type": "code",
   "execution_count": 66,
   "metadata": {},
   "outputs": [
    {
     "data": {
      "text/html": [
       "<div>\n",
       "<style scoped>\n",
       "    .dataframe tbody tr th:only-of-type {\n",
       "        vertical-align: middle;\n",
       "    }\n",
       "\n",
       "    .dataframe tbody tr th {\n",
       "        vertical-align: top;\n",
       "    }\n",
       "\n",
       "    .dataframe thead th {\n",
       "        text-align: right;\n",
       "    }\n",
       "</style>\n",
       "<table border=\"1\" class=\"dataframe\">\n",
       "  <thead>\n",
       "    <tr style=\"text-align: right;\">\n",
       "      <th></th>\n",
       "      <th>ef__avg_firing_rate</th>\n",
       "      <th>ef__peak_t_ramp</th>\n",
       "      <th>ef__tau</th>\n",
       "      <th>ef__adaptation</th>\n",
       "    </tr>\n",
       "  </thead>\n",
       "  <tbody>\n",
       "    <tr>\n",
       "      <th>0</th>\n",
       "      <td>-0.863892</td>\n",
       "      <td>2.258378</td>\n",
       "      <td>-0.612495</td>\n",
       "      <td>-0.481619</td>\n",
       "    </tr>\n",
       "    <tr>\n",
       "      <th>1</th>\n",
       "      <td>1.549841</td>\n",
       "      <td>1.500497</td>\n",
       "      <td>-1.281417</td>\n",
       "      <td>-0.474952</td>\n",
       "    </tr>\n",
       "    <tr>\n",
       "      <th>2</th>\n",
       "      <td>-0.481505</td>\n",
       "      <td>0.649493</td>\n",
       "      <td>-1.183927</td>\n",
       "      <td>-0.638272</td>\n",
       "    </tr>\n",
       "    <tr>\n",
       "      <th>3</th>\n",
       "      <td>-0.323776</td>\n",
       "      <td>-0.770389</td>\n",
       "      <td>0.253041</td>\n",
       "      <td>-0.146062</td>\n",
       "    </tr>\n",
       "    <tr>\n",
       "      <th>4</th>\n",
       "      <td>-0.543520</td>\n",
       "      <td>-0.625083</td>\n",
       "      <td>0.497025</td>\n",
       "      <td>-0.204249</td>\n",
       "    </tr>\n",
       "  </tbody>\n",
       "</table>\n",
       "</div>"
      ],
      "text/plain": [
       "   ef__avg_firing_rate  ef__peak_t_ramp   ef__tau  ef__adaptation\n",
       "0            -0.863892         2.258378 -0.612495       -0.481619\n",
       "1             1.549841         1.500497 -1.281417       -0.474952\n",
       "2            -0.481505         0.649493 -1.183927       -0.638272\n",
       "3            -0.323776        -0.770389  0.253041       -0.146062\n",
       "4            -0.543520        -0.625083  0.497025       -0.204249"
      ]
     },
     "execution_count": 66,
     "metadata": {},
     "output_type": "execute_result"
    }
   ],
   "source": [
    "#visP data\n",
    "from scipy import stats\n",
    "import matplotlib.pyplot as plt\n",
    "df_VISp = df[df['structure_parent__acronym'].str.contains('VISp')].reset_index(drop=True).fillna(0)\n",
    "visp_features = df_VISp[['ef__avg_firing_rate','ef__peak_t_ramp','ef__tau', 'ef__adaptation']]\n",
    "visp_features = (visp_features - visp_features.mean())/visp_features.std()\n",
    "visp_features.head()"
   ]
  },
  {
   "cell_type": "code",
   "execution_count": 68,
   "metadata": {},
   "outputs": [
    {
     "data": {
      "image/png": "[encoded data removed]",
      "text/plain": [
       "<Figure size 432x288 with 2 Axes>"
      ]
     },
     "metadata": {
      "needs_background": "light"
     },
     "output_type": "display_data"
    }
   ],
   "source": [
    "#covariance matrix for visP\n",
    "cov_visp = visp_features.cov()\n",
    "\n",
    "plt.imshow(cov_visp)\n",
    "plt.colorbar()\n",
    "plt.title('Covariance Matrix (\\u03A3)')\n",
    "plt.show()"
   ]
  },
  {
   "cell_type": "code",
   "execution_count": 67,
   "metadata": {},
   "outputs": [
    {
     "data": {
      "image/png": "[encoded data removed]",
      "text/plain": [
       "<Figure size 432x288 with 2 Axes>"
      ]
     },
     "metadata": {
      "needs_background": "light"
     },
     "output_type": "display_data"
    },
    {
     "name": "stdout",
     "output_type": "stream",
     "text": [
      "3.999999999999993\n"
     ]
    }
   ],
   "source": [
    "#eigenvectors for visP\n",
    "eigenvectors, eigenvalues = np.linalg.eig(cov_visp)\n",
    "\n",
    "plt.imshow(eigenvalues)\n",
    "plt.colorbar()\n",
    "plt.show()\n",
    "eigenSum = np.sum(eigenvectors)\n",
    "print(eigenSum)"
   ]
  },
  {
   "cell_type": "code",
   "execution_count": 69,
   "metadata": {},
   "outputs": [
    {
     "data": {
      "text/html": [
       "<div>\n",
       "<style scoped>\n",
       "    .dataframe tbody tr th:only-of-type {\n",
       "        vertical-align: middle;\n",
       "    }\n",
       "\n",
       "    .dataframe tbody tr th {\n",
       "        vertical-align: top;\n",
       "    }\n",
       "\n",
       "    .dataframe thead th {\n",
       "        text-align: right;\n",
       "    }\n",
       "</style>\n",
       "<table border=\"1\" class=\"dataframe\">\n",
       "  <thead>\n",
       "    <tr style=\"text-align: right;\">\n",
       "      <th></th>\n",
       "      <th>ef__avg_firing_rate</th>\n",
       "      <th>ef__peak_t_ramp</th>\n",
       "      <th>ef__tau</th>\n",
       "      <th>ef__adaptation</th>\n",
       "    </tr>\n",
       "  </thead>\n",
       "  <tbody>\n",
       "    <tr>\n",
       "      <th>0</th>\n",
       "      <td>-0.516927</td>\n",
       "      <td>-0.075436</td>\n",
       "      <td>-0.521705</td>\n",
       "      <td>-0.262935</td>\n",
       "    </tr>\n",
       "    <tr>\n",
       "      <th>1</th>\n",
       "      <td>-0.844255</td>\n",
       "      <td>4.157333</td>\n",
       "      <td>-1.359724</td>\n",
       "      <td>-0.603046</td>\n",
       "    </tr>\n",
       "    <tr>\n",
       "      <th>2</th>\n",
       "      <td>-0.429554</td>\n",
       "      <td>-0.094005</td>\n",
       "      <td>-0.993549</td>\n",
       "      <td>-0.690704</td>\n",
       "    </tr>\n",
       "    <tr>\n",
       "      <th>3</th>\n",
       "      <td>2.151836</td>\n",
       "      <td>-1.427893</td>\n",
       "      <td>-0.916276</td>\n",
       "      <td>-0.592099</td>\n",
       "    </tr>\n",
       "    <tr>\n",
       "      <th>4</th>\n",
       "      <td>-0.253639</td>\n",
       "      <td>0.639252</td>\n",
       "      <td>0.232748</td>\n",
       "      <td>-0.603046</td>\n",
       "    </tr>\n",
       "  </tbody>\n",
       "</table>\n",
       "</div>"
      ],
      "text/plain": [
       "   ef__avg_firing_rate  ef__peak_t_ramp   ef__tau  ef__adaptation\n",
       "0            -0.516927        -0.075436 -0.521705       -0.262935\n",
       "1            -0.844255         4.157333 -1.359724       -0.603046\n",
       "2            -0.429554        -0.094005 -0.993549       -0.690704\n",
       "3             2.151836        -1.427893 -0.916276       -0.592099\n",
       "4            -0.253639         0.639252  0.232748       -0.603046"
      ]
     },
     "execution_count": 69,
     "metadata": {},
     "output_type": "execute_result"
    }
   ],
   "source": [
    "#visL data\n",
    "df_VISl = df[df['structure_parent__acronym'].str.contains('VISl')].reset_index(drop=True).fillna(0)\n",
    "visl_features = df_VISl[['ef__avg_firing_rate','ef__peak_t_ramp','ef__tau', 'ef__adaptation']]\n",
    "visl_features = (visl_features - visl_features.mean())/visl_features.std()\n",
    "visl_features.head()"
   ]
  },
  {
   "cell_type": "code",
   "execution_count": 70,
   "metadata": {},
   "outputs": [
    {
     "data": {
      "image/png": "[encoded data removed]",
      "text/plain": [
       "<Figure size 432x288 with 2 Axes>"
      ]
     },
     "metadata": {
      "needs_background": "light"
     },
     "output_type": "display_data"
    }
   ],
   "source": [
    "#covariance matrix for visL\n",
    "cov_visl = visl_features.cov()\n",
    "\n",
    "plt.imshow(cov_visl)\n",
    "plt.colorbar()\n",
    "plt.title('Covariance Matrix (\\u03A3)')\n",
    "plt.show()"
   ]
  },
  {
   "cell_type": "code",
   "execution_count": 71,
   "metadata": {},
   "outputs": [
    {
     "data": {
      "image/png": "[encoded data removed]",
      "text/plain": [
       "<Figure size 432x288 with 2 Axes>"
      ]
     },
     "metadata": {
      "needs_background": "light"
     },
     "output_type": "display_data"
    },
    {
     "name": "stdout",
     "output_type": "stream",
     "text": [
      "4.0\n"
     ]
    }
   ],
   "source": [
    "#eigenvectors for visL\n",
    "eigenvectors, eigenvalues = np.linalg.eig(cov_visl)\n",
    "\n",
    "plt.imshow(eigenvalues)\n",
    "plt.colorbar()\n",
    "plt.show()\n",
    "eigenSum = np.sum(eigenvectors)\n",
    "print(eigenSum)"
   ]
  },
  {
   "cell_type": "code",
   "execution_count": null,
   "metadata": {},
   "outputs": [],
   "source": []
  }
 ],
 "metadata": {
  "kernelspec": {
   "display_name": "Python 3",
   "language": "python",
   "name": "python3"
  },
  "language_info": {
   "codemirror_mode": {
    "name": "ipython",
    "version": 3
   },
   "file_extension": ".py",
   "mimetype": "text/x-python",
   "name": "python",
   "nbconvert_exporter": "python",
   "pygments_lexer": "ipython3",
   "version": "3.6.7"
  }
 },
 "nbformat": 4,
 "nbformat_minor": 2
}
